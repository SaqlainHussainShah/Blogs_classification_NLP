{
  "nbformat": 4,
  "nbformat_minor": 0,
  "metadata": {
    "colab": {
      "name": "Untitled1.ipynb",
      "provenance": [],
      "collapsed_sections": [],
      "authorship_tag": "ABX9TyOKeiHDMBnqfCdkQbyxvcHQ",
      "include_colab_link": true
    },
    "kernelspec": {
      "name": "python3",
      "display_name": "Python 3"
    },
    "accelerator": "GPU"
  },
  "cells": [
    {
      "cell_type": "markdown",
      "metadata": {
        "id": "view-in-github",
        "colab_type": "text"
      },
      "source": [
        "<a href=\"https://colab.research.google.com/github/SaqlainHussainShah/Blogs_classification_NLP/blob/master/horoscope%20classification.ipynb\" target=\"_parent\"><img src=\"https://colab.research.google.com/assets/colab-badge.svg\" alt=\"Open In Colab\"/></a>"
      ]
    },
    {
      "cell_type": "code",
      "metadata": {
        "id": "xC5QEeNUio4V",
        "colab_type": "code",
        "colab": {
          "base_uri": "https://localhost:8080/",
          "height": 139
        },
        "outputId": "217a410a-fa06-4d0a-e0fd-e6b023211cd0"
      },
      "source": [
        "import glob\n",
        "import time\n",
        "import pandas as pd\n",
        "# from xml.dom import minidom\n",
        "from lxml import etree\n",
        "from nltk import ngrams\n",
        "from nltk.tokenize import sent_tokenize\n",
        "import nltk\n",
        "nltk.download('punkt')\n",
        "nltk.download('stopwords')\n",
        "nltk.download('wordnet')"
      ],
      "execution_count": 6,
      "outputs": [
        {
          "output_type": "stream",
          "text": [
            "[nltk_data] Downloading package punkt to /root/nltk_data...\n",
            "[nltk_data]   Unzipping tokenizers/punkt.zip.\n",
            "[nltk_data] Downloading package stopwords to /root/nltk_data...\n",
            "[nltk_data]   Unzipping corpora/stopwords.zip.\n",
            "[nltk_data] Downloading package wordnet to /root/nltk_data...\n",
            "[nltk_data]   Unzipping corpora/wordnet.zip.\n"
          ],
          "name": "stdout"
        },
        {
          "output_type": "execute_result",
          "data": {
            "text/plain": [
              "True"
            ]
          },
          "metadata": {
            "tags": []
          },
          "execution_count": 6
        }
      ]
    },
    {
      "cell_type": "code",
      "metadata": {
        "id": "1CaEstq_8Ipb",
        "colab_type": "code",
        "colab": {}
      },
      "source": [
        "from nltk.stem import PorterStemmer\n",
        "from nltk.tokenize import sent_tokenize, word_tokenize\n",
        "from nltk.stem import WordNetLemmatizer\n",
        "from nltk.corpus import stopwords \n",
        "from nltk.tokenize import word_tokenize "
      ],
      "execution_count": 0,
      "outputs": []
    },
    {
      "cell_type": "code",
      "metadata": {
        "id": "3YDVxgo7jFof",
        "colab_type": "code",
        "colab": {
          "base_uri": "https://localhost:8080/",
          "height": 124
        },
        "outputId": "87c06e0a-c670-4b9d-ff7c-56191403dbe2"
      },
      "source": [
        "from google.colab import drive\n",
        "drive.mount('/content/drive')"
      ],
      "execution_count": 7,
      "outputs": [
        {
          "output_type": "stream",
          "text": [
            "Go to this URL in a browser: https://accounts.google.com/o/oauth2/auth?client_id=947318989803-6bn6qk8qdgf4n4g3pfee6491hc0brc4i.apps.googleusercontent.com&redirect_uri=urn%3aietf%3awg%3aoauth%3a2.0%3aoob&response_type=code&scope=email%20https%3a%2f%2fwww.googleapis.com%2fauth%2fdocs.test%20https%3a%2f%2fwww.googleapis.com%2fauth%2fdrive%20https%3a%2f%2fwww.googleapis.com%2fauth%2fdrive.photos.readonly%20https%3a%2f%2fwww.googleapis.com%2fauth%2fpeopleapi.readonly\n",
            "\n",
            "Enter your authorization code:\n",
            "··········\n",
            "Mounted at /content/drive\n"
          ],
          "name": "stdout"
        }
      ]
    },
    {
      "cell_type": "code",
      "metadata": {
        "id": "Ysvjt_egit0N",
        "colab_type": "code",
        "colab": {
          "base_uri": "https://localhost:8080/",
          "height": 34
        },
        "outputId": "8e75425c-2661-490e-8432-9861c312fa72"
      },
      "source": [
        "t1=time.time()\n",
        "path='/content/drive/My Drive/'\n",
        "all_files = glob.glob(path + \"/*.xml\")\n",
        "li = []\n",
        "\n",
        "for filename in all_files:\n",
        "  # print(\"file name \", filename)\n",
        "  li.append(filename)\n",
        "    \n",
        "\n",
        "t2=time.time()\n",
        "print(\"time taken to read All csv :: \", t2-t1, \" seconds \")"
      ],
      "execution_count": 8,
      "outputs": [
        {
          "output_type": "stream",
          "text": [
            "time taken to read All csv ::  0.0803067684173584  seconds \n"
          ],
          "name": "stdout"
        }
      ]
    },
    {
      "cell_type": "code",
      "metadata": {
        "id": "9zv3AdO_j_0V",
        "colab_type": "code",
        "colab": {}
      },
      "source": [
        "def clean_file_names(li):\n",
        "  # names_list=[]\n",
        "  # for i in range(len(li)):\n",
        "  name_list=li.split('/')[-1]\n",
        "  return name_list"
      ],
      "execution_count": 0,
      "outputs": []
    },
    {
      "cell_type": "code",
      "metadata": {
        "id": "fPMyOEjFkCIN",
        "colab_type": "code",
        "colab": {}
      },
      "source": [
        "\n",
        "\n",
        "def get_attributes_from_name(name):\n",
        "  # data_object=[]\n",
        "  # for data in range(len(names_list)):\n",
        "  #   dummy_var=names_list[data].split('.')\n",
        "  #   dummy_object={'id':dummy_var[0], 'gender':dummy_var[1],\n",
        "  #                 'age':dummy_var[2], 'category':dummy_var[3],\n",
        "  #                 'horoscope':dummy_var[4]\n",
        "  #                 }\n",
        "  #   data_object.append(dummy_object)\n",
        "  dummy_var=name.split('.')\n",
        "  data_object={'id':dummy_var[0], 'gender':dummy_var[1],\n",
        "                  'age':dummy_var[2], 'category':dummy_var[3],\n",
        "                  'horoscope':dummy_var[4]\n",
        "                }\n",
        "  \n",
        "  return data_object\n",
        "\n"
      ],
      "execution_count": 0,
      "outputs": []
    },
    {
      "cell_type": "code",
      "metadata": {
        "id": "dpLWg4DMkUiE",
        "colab_type": "code",
        "colab": {}
      },
      "source": [
        "def read_xml(li):\n",
        "  all_objects=[]\n",
        "  for i in range(len(li)):\n",
        "    # print(\"i will run \", i+1,\" times\")\n",
        "    name_of_file=clean_file_names(li[i])\n",
        "    # print(name_of_file)\n",
        "    data_object=get_attributes_from_name(name_of_file)\n",
        "    # print(data_object)\n",
        "\n",
        "    post_text='  '\n",
        "    tree = etree.parse(li[i], parser=parser)\n",
        "    root = tree.getroot()\n",
        "    for element in root.iter():\n",
        "        if element.tag == 'post':\n",
        "            element_text = element.text\n",
        "            post_text = post_text + element_text\n",
        "    mystring = post_text.replace('\\n', '').replace('\\r', '').replace('\\t', '')\n",
        "    mystring = mystring.replace('   ', '').replace('\\\\','')\n",
        "   \n",
        "\n",
        "#     mystring=clean_my_string(mystring)\n",
        "   \n",
        "    # print(mystring)\n",
        "    # name_of_file=clean_file_names(li[i])\n",
        "    # data_object=get_attributes_from_name(name_of_file)\n",
        "    \n",
        "\n",
        "\n",
        "\n",
        "    data_object['posts']=mystring   \n",
        "    all_objects.append(data_object)\n",
        "\n",
        "  return all_objects"
      ],
      "execution_count": 0,
      "outputs": []
    },
    {
      "cell_type": "code",
      "metadata": {
        "id": "d8cowHDtkDy9",
        "colab_type": "code",
        "colab": {}
      },
      "source": [
        "parser = etree.XMLParser(encoding='ISO-8859-1', recover = True, huge_tree=True)"
      ],
      "execution_count": 0,
      "outputs": []
    },
    {
      "cell_type": "code",
      "metadata": {
        "id": "-GTJhqe4kgS8",
        "colab_type": "code",
        "colab": {
          "base_uri": "https://localhost:8080/",
          "height": 34
        },
        "outputId": "099ee5e4-2b2e-4381-8e59-7be04ef1e130"
      },
      "source": [
        "len(li)"
      ],
      "execution_count": 13,
      "outputs": [
        {
          "output_type": "execute_result",
          "data": {
            "text/plain": [
              "6199"
            ]
          },
          "metadata": {
            "tags": []
          },
          "execution_count": 13
        }
      ]
    },
    {
      "cell_type": "code",
      "metadata": {
        "id": "lBXHz5MAkFe9",
        "colab_type": "code",
        "colab": {}
      },
      "source": [
        "t1=time.time()\n",
        "data=read_xml(li[0:])\n",
        "t2=time.time()\n"
      ],
      "execution_count": 0,
      "outputs": []
    },
    {
      "cell_type": "code",
      "metadata": {
        "id": "4dK-Z4G7kJSV",
        "colab_type": "code",
        "colab": {
          "base_uri": "https://localhost:8080/",
          "height": 34
        },
        "outputId": "67c222b6-0d02-4380-d685-f32b3137a1fa"
      },
      "source": [
        "\n",
        "\n",
        "print(\"time taken to read :: \", (t2-t1)/100)\n",
        "\n"
      ],
      "execution_count": 15,
      "outputs": [
        {
          "output_type": "stream",
          "text": [
            "time taken to read ::  29.705653913021088\n"
          ],
          "name": "stdout"
        }
      ]
    },
    {
      "cell_type": "code",
      "metadata": {
        "id": "ONqFCEMBkbuV",
        "colab_type": "code",
        "colab": {}
      },
      "source": [
        "for i in range(len(data)):\n",
        "    post_of_single_person=data[i]['posts']\n",
        "    \n",
        "    sentences=sent_tokenize(post_of_single_person)\n",
        "    \n",
        "    for j in range(len(sentences)):\n",
        "        words=word_tokenize(sentences[j])[:-1]\n",
        "        \n",
        "        sentences[j]=words\n",
        "        \n",
        "    data[i]['posts']=sentences\n",
        "    \n",
        "#     sentence=word_tokenize(sent_tokenize(post_of_single_person)[3])[:-1]\n",
        "#     sentences+=sentence"
      ],
      "execution_count": 0,
      "outputs": []
    },
    {
      "cell_type": "code",
      "metadata": {
        "id": "btq0z4THkeg7",
        "colab_type": "code",
        "colab": {
          "base_uri": "https://localhost:8080/",
          "height": 34
        },
        "outputId": "86d2edeb-f109-420d-e854-29600b7f1948"
      },
      "source": [
        "(time.time()-t2)/100"
      ],
      "execution_count": 19,
      "outputs": [
        {
          "output_type": "execute_result",
          "data": {
            "text/plain": [
              "15.622514169216156"
            ]
          },
          "metadata": {
            "tags": []
          },
          "execution_count": 19
        }
      ]
    },
    {
      "cell_type": "code",
      "metadata": {
        "id": "D_44jBSP8Rjv",
        "colab_type": "code",
        "colab": {}
      },
      "source": [
        "df=pd.DataFrame(data)"
      ],
      "execution_count": 0,
      "outputs": []
    },
    {
      "cell_type": "code",
      "metadata": {
        "id": "ruguVH_o8V3k",
        "colab_type": "code",
        "colab": {
          "base_uri": "https://localhost:8080/",
          "height": 206
        },
        "outputId": "04665051-5150-4658-f55d-fa3a27cd1bf9"
      },
      "source": [
        "df.head()"
      ],
      "execution_count": 21,
      "outputs": [
        {
          "output_type": "execute_result",
          "data": {
            "text/html": [
              "<div>\n",
              "<style scoped>\n",
              "    .dataframe tbody tr th:only-of-type {\n",
              "        vertical-align: middle;\n",
              "    }\n",
              "\n",
              "    .dataframe tbody tr th {\n",
              "        vertical-align: top;\n",
              "    }\n",
              "\n",
              "    .dataframe thead th {\n",
              "        text-align: right;\n",
              "    }\n",
              "</style>\n",
              "<table border=\"1\" class=\"dataframe\">\n",
              "  <thead>\n",
              "    <tr style=\"text-align: right;\">\n",
              "      <th></th>\n",
              "      <th>id</th>\n",
              "      <th>gender</th>\n",
              "      <th>age</th>\n",
              "      <th>category</th>\n",
              "      <th>horoscope</th>\n",
              "      <th>posts</th>\n",
              "    </tr>\n",
              "  </thead>\n",
              "  <tbody>\n",
              "    <tr>\n",
              "      <th>0</th>\n",
              "      <td>4115891</td>\n",
              "      <td>male</td>\n",
              "      <td>24</td>\n",
              "      <td>Student</td>\n",
              "      <td>Leo</td>\n",
              "      <td>[[I, just, watched, Beauty, and, the, beast], ...</td>\n",
              "    </tr>\n",
              "    <tr>\n",
              "      <th>1</th>\n",
              "      <td>4080749</td>\n",
              "      <td>male</td>\n",
              "      <td>15</td>\n",
              "      <td>Arts</td>\n",
              "      <td>Gemini</td>\n",
              "      <td>[[ok, i, was, @, me, aunt, 's, house, ..., .an...</td>\n",
              "    </tr>\n",
              "    <tr>\n",
              "      <th>2</th>\n",
              "      <td>3974013</td>\n",
              "      <td>female</td>\n",
              "      <td>23</td>\n",
              "      <td>Student</td>\n",
              "      <td>Cancer</td>\n",
              "      <td>[[urlLink, ..., urlLinkurlLink, Big, Apple, Ho...</td>\n",
              "    </tr>\n",
              "    <tr>\n",
              "      <th>3</th>\n",
              "      <td>3637035</td>\n",
              "      <td>female</td>\n",
              "      <td>24</td>\n",
              "      <td>Student</td>\n",
              "      <td>Aquarius</td>\n",
              "      <td>[[Well, ,, I, do, n't, know, what, to, say], [...</td>\n",
              "    </tr>\n",
              "    <tr>\n",
              "      <th>4</th>\n",
              "      <td>1840007</td>\n",
              "      <td>male</td>\n",
              "      <td>26</td>\n",
              "      <td>Student</td>\n",
              "      <td>Leo</td>\n",
              "      <td>[[urlLink, BBC, NEWS, UK, Caution, call, on, v...</td>\n",
              "    </tr>\n",
              "  </tbody>\n",
              "</table>\n",
              "</div>"
            ],
            "text/plain": [
              "        id  gender  ... horoscope                                              posts\n",
              "0  4115891    male  ...       Leo  [[I, just, watched, Beauty, and, the, beast], ...\n",
              "1  4080749    male  ...    Gemini  [[ok, i, was, @, me, aunt, 's, house, ..., .an...\n",
              "2  3974013  female  ...    Cancer  [[urlLink, ..., urlLinkurlLink, Big, Apple, Ho...\n",
              "3  3637035  female  ...  Aquarius  [[Well, ,, I, do, n't, know, what, to, say], [...\n",
              "4  1840007    male  ...       Leo  [[urlLink, BBC, NEWS, UK, Caution, call, on, v...\n",
              "\n",
              "[5 rows x 6 columns]"
            ]
          },
          "metadata": {
            "tags": []
          },
          "execution_count": 21
        }
      ]
    },
    {
      "cell_type": "code",
      "metadata": {
        "id": "jDYCohCE8ZCw",
        "colab_type": "code",
        "colab": {}
      },
      "source": [
        "\n",
        "from sklearn.feature_extraction.text import CountVectorizer\n",
        "from sklearn.model_selection import train_test_split\n",
        "# from sklearn.preprocessing import MultiLabelBinarizer\n",
        "from sklearn.model_selection import train_test_split\n"
      ],
      "execution_count": 0,
      "outputs": []
    },
    {
      "cell_type": "code",
      "metadata": {
        "id": "WqeDC1iz8cKp",
        "colab_type": "code",
        "colab": {}
      },
      "source": [
        "X=df['posts'].values\n",
        "y=df['horoscope']"
      ],
      "execution_count": 0,
      "outputs": []
    },
    {
      "cell_type": "code",
      "metadata": {
        "id": "gnU2KBxd8epS",
        "colab_type": "code",
        "colab": {}
      },
      "source": [
        "trainX, testX, trainY, testY = train_test_split(X,y, test_size=0.2, random_state=42)"
      ],
      "execution_count": 0,
      "outputs": []
    },
    {
      "cell_type": "code",
      "metadata": {
        "id": "EQg0bHoE8gVL",
        "colab_type": "code",
        "colab": {}
      },
      "source": [
        "for i in range(len(trainX)):\n",
        "    sentences=trainX[i]\n",
        "    words=''\n",
        "    for j in range(len(sentences)):\n",
        "        sentence=sentences[j]\n",
        "        for k in range(len(sentence)):\n",
        "            words+=' '+sentence[k]\n",
        "    trainX[i]=words   \n"
      ],
      "execution_count": 0,
      "outputs": []
    },
    {
      "cell_type": "code",
      "metadata": {
        "id": "rgjZ3rlW8iZu",
        "colab_type": "code",
        "colab": {}
      },
      "source": [
        "for i in range(len(testX)):\n",
        "    sentences=testX[i]\n",
        "    words=''\n",
        "    for j in range(len(sentences)):\n",
        "        sentence=sentences[j]\n",
        "        for k in range(len(sentence)):\n",
        "            words+=' '+sentence[k]\n",
        "    testX[i]=words  "
      ],
      "execution_count": 0,
      "outputs": []
    },
    {
      "cell_type": "code",
      "metadata": {
        "id": "Omrh_v5M8kIN",
        "colab_type": "code",
        "colab": {}
      },
      "source": [
        "vectorizer = CountVectorizer()\n",
        "vectorizer.fit(trainX)\n",
        "X_train = vectorizer.transform(trainX)\n",
        "X_test  = vectorizer.transform(testX)"
      ],
      "execution_count": 0,
      "outputs": []
    },
    {
      "cell_type": "code",
      "metadata": {
        "id": "K3d_2T3KNf-E",
        "colab_type": "code",
        "colab": {}
      },
      "source": [
        "trainY.replace('Aries (1)', \"Aries\", inplace=True)\n",
        "trainY.replace('Aquarius (1)', \"Aquarius\", inplace=True)\n",
        "trainY.replace('Capricorn (1)', \"Capricorn\", inplace=True)\n",
        "trainY.replace('Leo (1)', \"Leo\", inplace=True)\n",
        "trainY.replace('Libra (1)', \"Libra\", inplace=True)\n",
        "trainY.replace('Pisces (1)', \"Pisces\", inplace=True)\n",
        "trainY.replace('Virgo (1)', \"Virgo\", inplace=True)\n",
        "trainY.replace('Taurus (1)', \"Taurus\", inplace=True)"
      ],
      "execution_count": 0,
      "outputs": []
    },
    {
      "cell_type": "code",
      "metadata": {
        "id": "JteE0udLOKEQ",
        "colab_type": "code",
        "colab": {}
      },
      "source": [
        "testY.replace('Aries (1)', \"Aries\", inplace=True)\n",
        "testY.replace('Aquarius (1)', \"Aquarius\", inplace=True)\n",
        "testY.replace('Capricorn (1)', \"Capricorn\", inplace=True)\n",
        "testY.replace('Leo (1)', \"Leo\", inplace=True)\n",
        "testY.replace('Libra (1)', \"Libra\", inplace=True)\n",
        "testY.replace('Pisces (1)', \"Pisces\", inplace=True)\n",
        "testY.replace('Virgo (1)', \"Virgo\", inplace=True)\n",
        "\n",
        "testY.replace('Taurus (1)', \"Taurus\", inplace=True)\n"
      ],
      "execution_count": 0,
      "outputs": []
    },
    {
      "cell_type": "code",
      "metadata": {
        "id": "vwu-rz7ULtL3",
        "colab_type": "code",
        "colab": {
          "base_uri": "https://localhost:8080/",
          "height": 69
        },
        "outputId": "e0f37080-1305-463b-d894-34248fb01ccb"
      },
      "source": [
        "from sklearn import preprocessing\n",
        "le = preprocessing.LabelEncoder()\n",
        "le.fit(trainY)\n",
        "le.classes_"
      ],
      "execution_count": 67,
      "outputs": [
        {
          "output_type": "execute_result",
          "data": {
            "text/plain": [
              "array(['Aquarius', 'Aries', 'Cancer', 'Capricorn', 'Gemini', 'Leo',\n",
              "       'Libra', 'Pisces', 'Sagittarius', 'Scorpio', 'Taurus', 'Virgo'],\n",
              "      dtype=object)"
            ]
          },
          "metadata": {
            "tags": []
          },
          "execution_count": 67
        }
      ]
    },
    {
      "cell_type": "code",
      "metadata": {
        "id": "Q3GYb7fFLtPK",
        "colab_type": "code",
        "colab": {}
      },
      "source": [
        "y_train=le.transform(trainY)\n"
      ],
      "execution_count": 0,
      "outputs": []
    },
    {
      "cell_type": "code",
      "metadata": {
        "id": "EOdVxTf0OlHt",
        "colab_type": "code",
        "colab": {}
      },
      "source": [
        "y_test=le.transform(testY)"
      ],
      "execution_count": 0,
      "outputs": []
    },
    {
      "cell_type": "code",
      "metadata": {
        "id": "GpqlR5EsLz_V",
        "colab_type": "code",
        "colab": {}
      },
      "source": [
        "from keras.utils import np_utils"
      ],
      "execution_count": 0,
      "outputs": []
    },
    {
      "cell_type": "code",
      "metadata": {
        "id": "VrBqyRVjL2vM",
        "colab_type": "code",
        "colab": {}
      },
      "source": [
        "dummy_train_y = np_utils.to_categorical(y_train)\n",
        "dummy_test_y = np_utils.to_categorical(y_test)"
      ],
      "execution_count": 0,
      "outputs": []
    },
    {
      "cell_type": "code",
      "metadata": {
        "id": "pq0h7LZS8tnL",
        "colab_type": "code",
        "colab": {}
      },
      "source": [
        "from keras.models import Sequential\n",
        "from keras import layers\n",
        "from keras.preprocessing.text import Tokenizer\n",
        "from keras.wrappers.scikit_learn import KerasClassifier"
      ],
      "execution_count": 0,
      "outputs": []
    },
    {
      "cell_type": "code",
      "metadata": {
        "id": "bHNBZeHR8xFf",
        "colab_type": "code",
        "colab": {}
      },
      "source": [
        "\n",
        "\n",
        "input_dim = X_train.shape[1]  # Number of features\n",
        "\n",
        "model = Sequential()\n",
        "model.add(layers.Dense(20, input_dim=input_dim, activation='relu'))\n",
        "model.add(layers.Dense(10,  activation='tanh'))\n",
        "# model.add(layers.Flatten())\n",
        "model.add(layers.Dense(1024, activation='relu'))\n",
        "\n",
        "model.add(layers.Dropout(0.5))\n",
        "model.add(layers.Dense(12, activation='softmax'))\n",
        "# model.add(Activation('softmax'))\n",
        "\n"
      ],
      "execution_count": 0,
      "outputs": []
    },
    {
      "cell_type": "code",
      "metadata": {
        "id": "YwbNwI2C8y6r",
        "colab_type": "code",
        "colab": {
          "base_uri": "https://localhost:8080/",
          "height": 330
        },
        "outputId": "440980ee-b729-46f9-b47d-58996fcb5901"
      },
      "source": [
        "model.compile(loss='binary_crossentropy', \n",
        "              optimizer='adam', \n",
        "              metrics=['accuracy'])\n",
        "model.summary()"
      ],
      "execution_count": 75,
      "outputs": [
        {
          "output_type": "stream",
          "text": [
            "Model: \"sequential_2\"\n",
            "_________________________________________________________________\n",
            "Layer (type)                 Output Shape              Param #   \n",
            "=================================================================\n",
            "dense_5 (Dense)              (None, 20)                12654880  \n",
            "_________________________________________________________________\n",
            "dense_6 (Dense)              (None, 10)                210       \n",
            "_________________________________________________________________\n",
            "dense_7 (Dense)              (None, 1024)              11264     \n",
            "_________________________________________________________________\n",
            "dropout_2 (Dropout)          (None, 1024)              0         \n",
            "_________________________________________________________________\n",
            "dense_8 (Dense)              (None, 12)                12300     \n",
            "=================================================================\n",
            "Total params: 12,678,654\n",
            "Trainable params: 12,678,654\n",
            "Non-trainable params: 0\n",
            "_________________________________________________________________\n"
          ],
          "name": "stdout"
        }
      ]
    },
    {
      "cell_type": "code",
      "metadata": {
        "id": "_WKZZPqD80vx",
        "colab_type": "code",
        "colab": {
          "base_uri": "https://localhost:8080/",
          "height": 402
        },
        "outputId": "9c87d200-2565-4eed-faaf-8670dcf5932b"
      },
      "source": [
        "classifier_nn = model.fit(X_train,dummy_train_y,\n",
        "                    epochs=2,\n",
        "                    verbose=True,\n",
        "                    validation_data=(X_test, dummy_test_y),\n",
        "                    batch_size=4)"
      ],
      "execution_count": 77,
      "outputs": [
        {
          "output_type": "stream",
          "text": [
            "WARNING:tensorflow:From /usr/local/lib/python3.6/dist-packages/keras/backend/tensorflow_backend.py:1033: The name tf.assign_add is deprecated. Please use tf.compat.v1.assign_add instead.\n",
            "\n",
            "WARNING:tensorflow:From /usr/local/lib/python3.6/dist-packages/keras/backend/tensorflow_backend.py:1020: The name tf.assign is deprecated. Please use tf.compat.v1.assign instead.\n",
            "\n",
            "WARNING:tensorflow:From /usr/local/lib/python3.6/dist-packages/keras/backend/tensorflow_backend.py:3005: The name tf.Session is deprecated. Please use tf.compat.v1.Session instead.\n",
            "\n",
            "Train on 4959 samples, validate on 1240 samples\n",
            "Epoch 1/2\n",
            "WARNING:tensorflow:From /usr/local/lib/python3.6/dist-packages/keras/backend/tensorflow_backend.py:190: The name tf.get_default_session is deprecated. Please use tf.compat.v1.get_default_session instead.\n",
            "\n",
            "WARNING:tensorflow:From /usr/local/lib/python3.6/dist-packages/keras/backend/tensorflow_backend.py:197: The name tf.ConfigProto is deprecated. Please use tf.compat.v1.ConfigProto instead.\n",
            "\n",
            "WARNING:tensorflow:From /usr/local/lib/python3.6/dist-packages/keras/backend/tensorflow_backend.py:207: The name tf.global_variables is deprecated. Please use tf.compat.v1.global_variables instead.\n",
            "\n",
            "WARNING:tensorflow:From /usr/local/lib/python3.6/dist-packages/keras/backend/tensorflow_backend.py:216: The name tf.is_variable_initialized is deprecated. Please use tf.compat.v1.is_variable_initialized instead.\n",
            "\n",
            "WARNING:tensorflow:From /usr/local/lib/python3.6/dist-packages/keras/backend/tensorflow_backend.py:223: The name tf.variables_initializer is deprecated. Please use tf.compat.v1.variables_initializer instead.\n",
            "\n",
            "4959/4959 [==============================] - 51s 10ms/step - loss: 0.2890 - acc: 0.9167 - val_loss: 0.2872 - val_acc: 0.9167\n",
            "Epoch 2/2\n",
            "4959/4959 [==============================] - 41s 8ms/step - loss: 0.2875 - acc: 0.9167 - val_loss: 0.2873 - val_acc: 0.9167\n"
          ],
          "name": "stdout"
        }
      ]
    },
    {
      "cell_type": "code",
      "metadata": {
        "id": "mf4vL-3s82v-",
        "colab_type": "code",
        "colab": {
          "base_uri": "https://localhost:8080/",
          "height": 69
        },
        "outputId": "6377b2fb-3154-4089-e242-330f9179d9c2"
      },
      "source": [
        "model.predict(X_test[7])"
      ],
      "execution_count": 80,
      "outputs": [
        {
          "output_type": "execute_result",
          "data": {
            "text/plain": [
              "array([[0.07737816, 0.08509135, 0.10142607, 0.07587966, 0.07625559,\n",
              "        0.07901341, 0.09339923, 0.07274996, 0.07514478, 0.07921012,\n",
              "        0.0891341 , 0.09531759]], dtype=float32)"
            ]
          },
          "metadata": {
            "tags": []
          },
          "execution_count": 80
        }
      ]
    },
    {
      "cell_type": "code",
      "metadata": {
        "id": "Y-0QMl4EQEq-",
        "colab_type": "code",
        "colab": {
          "base_uri": "https://localhost:8080/",
          "height": 69
        },
        "outputId": "61e5ffa4-3e65-4b31-b176-bf9324073051"
      },
      "source": [
        "model.predict(X_test[8])"
      ],
      "execution_count": 81,
      "outputs": [
        {
          "output_type": "execute_result",
          "data": {
            "text/plain": [
              "array([[0.07737816, 0.08509135, 0.10142607, 0.07587966, 0.07625559,\n",
              "        0.07901341, 0.09339923, 0.07274996, 0.07514478, 0.07921012,\n",
              "        0.0891341 , 0.09531759]], dtype=float32)"
            ]
          },
          "metadata": {
            "tags": []
          },
          "execution_count": 81
        }
      ]
    },
    {
      "cell_type": "code",
      "metadata": {
        "id": "36U_kduSQF4T",
        "colab_type": "code",
        "colab": {}
      },
      "source": [
        ""
      ],
      "execution_count": 0,
      "outputs": []
    }
  ]
}