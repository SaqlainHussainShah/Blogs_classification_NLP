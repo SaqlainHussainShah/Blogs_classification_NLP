{
 "cells": [
  {
   "cell_type": "code",
   "execution_count": 1,
   "metadata": {},
   "outputs": [],
   "source": [
    "import glob\n",
    "import time\n",
    "import pandas as pd\n",
    "from xml.dom import minidom"
   ]
  },
  {
   "cell_type": "code",
   "execution_count": 19,
   "metadata": {},
   "outputs": [
    {
     "name": "stdout",
     "output_type": "stream",
     "text": [
      "Requirement already satisfied: lxml in c:\\programdata\\anaconda3\\lib\\site-packages (4.2.5)\n"
     ]
    }
   ],
   "source": [
    "!pip install lxml"
   ]
  },
  {
   "cell_type": "code",
   "execution_count": 6,
   "metadata": {},
   "outputs": [
    {
     "name": "stdout",
     "output_type": "stream",
     "text": [
      "time taken to read All csv ::  0.0  seconds \n",
      "5114.male.25.indUnk.Scorpio.xml\n"
     ]
    }
   ],
   "source": [
    "\n",
    "t1=time.time()\n",
    "\n",
    "data = \"5114.male.25.indUnk.Scorpio.xml\"\n",
    "\n",
    "\n",
    "t2=time.time()\n",
    "print(\"time taken to read All csv :: \", t2-t1, \" seconds \")\n",
    "\n",
    "print(data)"
   ]
  },
  {
   "cell_type": "code",
   "execution_count": 20,
   "metadata": {},
   "outputs": [],
   "source": [
    "from lxml import etree"
   ]
  },
  {
   "cell_type": "code",
   "execution_count": 146,
   "metadata": {},
   "outputs": [],
   "source": [
    "parser = etree.XMLParser(encoding='ISO-8859-1', recover = True, huge_tree=True)\n",
    "tree = etree.parse('5114.male.25.indUnk.Scorpio.xml', parser=parser)\n",
    "root = tree.getroot()"
   ]
  },
  {
   "cell_type": "code",
   "execution_count": 147,
   "metadata": {},
   "outputs": [
    {
     "data": {
      "text/plain": [
       "<Element Blog at 0x2982cbd3288>"
      ]
     },
     "execution_count": 147,
     "metadata": {},
     "output_type": "execute_result"
    }
   ],
   "source": [
    "root"
   ]
  },
  {
   "cell_type": "code",
   "execution_count": 148,
   "metadata": {},
   "outputs": [],
   "source": [
    "post_text = \" \"\n",
    "for element in root.iter():\n",
    "    if element.tag == 'post':\n",
    "        element_text = element.text\n",
    "        post_text = post_text + element_text"
   ]
  },
  {
   "cell_type": "code",
   "execution_count": 149,
   "metadata": {},
   "outputs": [],
   "source": [
    "mystring = post_text.replace('\\n', '').replace('\\r', '')\n",
    "mystring = mystring.replace('   ', '')"
   ]
  },
  {
   "cell_type": "code",
   "execution_count": 145,
   "metadata": {},
   "outputs": [
    {
     "data": {
      "text/plain": [
       "'  Slashdot raises lots of  urlLink interesting thoughts about banner ads .  The idea is to let users control the ad delivery, and even to allow users to comment on ads.  urlLink  The Merchants of Cool  , a Frontline documentary featuring Mindjack advisory board member Douglas Rushkoff, is on PBS tonight.  Check your local listings for the time.  urlLink ATMs dispensing music?I don\\'t quite see the logic in that.  I\\'m not entirely against paying a nominal fee for music, or any other media, but if I do have to pay for it I\\'d be much more likely to buy stuff from my own PC. My chair started squeaking a few days ago and it\\'s driving me nuts! The New York Press has a  urlLink lenghty article  about the post dotcom crash scene that\\'s worth reading.Francis Collins\\'  urlLink 10 Most Surprising Things About the Human Genome .  urlLink FILMSPEED  has great movies you can download for free.  The Third Man, in particular, is one of my favorite films of all time.  For sale:  An STB nVidia ZX 8MB 3D Accelerator (AGP) and a 40X NEC CD-ROM drive.  Interesting trades considered. I\\'ve started uploading stuff to my live365.com radio station.  There\\'s not much there yet but you\\'re welcome to  listen .  (cabledsl or higher required) FEED\\'s latest special issue is an excellent  urlLink examination of video games , with contributions from Carl Steadman, Steven Johnson, Justin Hall and others.  Don\\'t miss it. New DVD!urlLink The Maltese Falcon . I once had a personal homepage, long before weblogs came into fashion, but never managed to update more than a couple of times a year.  Here\\'s hoping I\\'ll be a bit more successful with this.  Big thanks to  urlLink Bopjet  for hosting this and  urlLink Mindjack .  urlLink The Register reports on \"war driving\"  - the wireless equivalent of war dialing.  Instead of having your modem dial into thousands of networks until you get in, you just drive within range of a wireless net with your wireless-equipped laptop and hack away. related:urlLink The latest issue of CIO  has a great feature on wireless.  urlLink Short documentary on digital filmmaking and Star Wars Episode II.urlLink Rumour has it  that the parent companies of  urlLink Inside.com  and  urlLink Brill\\'s Content  will be announcing a merger as early as next Monday.  Apparently the two print magazines would fold into one called  Brill\\'s Inside Content  and the two websites would form  Media Central Inside.com .  Rolls right off the tongue, doesn\\'t it?  urlLink Destroy All Monsters - Survivor: Monster Island .  My money\\'s on Mothra. I just spent some time playing with the beta version of  urlLink Atmosphere , Adobe\\'s new 3D environment software, and thought I\\'d give a couple of quick impressions. I\\'ve always been interested in VR and spent quite a bit of time working in VRML, but I think the inherant problem with VRML was that not enough attention had been given to community.  You could build all these really cool places but people couldn\\'t interact in them.  You also couldn\\'t easily move from one 3D environment to another without going back and forth between 2D web pages.  I was involved with a project that tried to solve some of these problems with VRML (anybody remember Terra Vista?) but it didn\\'t as far as we would have liked.  Atmosphere appears to have addressed these problems.  It\\'s not the first product to do so, but maybe Adobe has enough muscle for it to gain wide acceptance. Thanks to  urlLink Onebox.com  I should now be able to receive faxes.  Not suprisingly, they don\\'t have local phone numbers for Fredericton so I chose a New York City area code.  If anyone wants to give it a whirl, my number is: (212) 894-3748 x2690. Well, I was supposed to be working.  But, through a long trail of procrastination, I ended up redesigning this site. Quotable Mindjack!  From Mike Sugarbaker\\'s  urlLink review of Lemon :  \"If you have no patience for the lengthy ruminations of brilliant madmen, Lemon isn\\'t for you. But you read Mindjack, so you\\'re probably into that sort of thing, right?\" Mindjack is featured in the links section of this month\\'s  urlLink Netlife magazine .  It doesn\\'t seem to be online yet so here\\'s a scan: Well, the big Yahoo news yesterday was that Tim Koogle is stepping down as CEO and that they\\'ll miss forecasts in the first quarter.urlLink Today the stock tumbled .  urlLink The Times reports  that the  urlLink Trogan Room Coffee Machine  webcam is going offline for good later this year.  That pot should go in a museum.urlLink It looks like  there\\'s some big news due from Yahoo later today.The new issue of  urlLink Mindjack Magazine  is now online, featuring a first for us - a live concert review.  With original photos even. It\\'s not good when a box of Sinutab describes your day.Sinus pain, headache, congestion, itchy, watery eyes.Ugh.  urlLink The End of Free  - chronicling the demise of free stuff on the net. I\\'m not sure I like the direction  urlLink FEED just turned .  \"The filter\", a new weblog linking to outside content is now featured more prominently than FEED\\'s original content.  It\\'s also not clear what the difference is between the filter and  urlLink Plastic . Hey now.urlLink Jon Lebkowsky  has started a blog.  Coolness and wisdom is to be found within. What looks like the  urlLink new PalmOS PDA  from TRG looks mighty impressive.  The official launch is rumored to be on Monday.  If it\\'s priced reasonably enough it might get me to upgrade from my 512k PalmPilot Personal.  urlLink Stick figure fighting action  like you\\'ve never seen before. Evan Williams of Blogger has more on  urlLink How the Trellix Deal Happened -- and What It Means . Need a  urlLink logo ?  Maybe a  urlLink website ?urlLink Email me .  I will work for  urlLink toys .It was just announced that  urlLink Trellix is licensing Pyra\\'s Blogger technology , giving Pyra a much needed cash infusion.  Dan Bricklin has a fascinating account of  urlLink how the deal happened  on his site. I recently got the  12 Monkeys DVD , which is excellent.  It\\'s worth picking up just for the included feature-length documentary,  The Hamster Factor and Other Tales of Twelve Monkeys , about the making of the film.  Redesigned again.  urlLink Inside.com reports  that Economist business editor Chris Anderson has been named editor of Wired, replacing Katrina Heron. The new issue of  urlLink Digital Web Magazine  is out today.  Lots of interesting stuff.  urlLink This is  one of the reasons I\\'m a vegetarian. (washingtonpost.com) Justin\\'s  urlLink back from Japan  with stories and pictures. Something screwy\\'s going on with my computer.  Things are crashing, my mouse is stuttering, MP3s are skipping when they didn\\'t before, and sometimes it just slows to a crawl.  I\\'ve got a nagging feeling that I\\'m going to have to do a complete format and reinstall Windows but I  really  don\\'t want to do that.urlLink Mikel.org  pointed me to this rumor that  urlLink Automatic Media is in trouble .  Automatic is the company that consists of Feed, Suck and Plastic.  Hopefully it is just a rumour.  urlLink Home of the Underdogs  is an amazing resource for anyone that loves computer games.  Not only do they have hundreds of games you can download which are no longer available from the companies, they also have a wealth of information about many of the games.  It\\'s not entirely legal, but I think it\\'s a great public service.  It\\'s even better now that they have one of my favorite games,  urlLink Gabriel Knight .  urlLink There\\'s a great article  by William Gibson in the The Observer\\'s  urlLink Special Japan Issue .  urlLink \\'We reinvented culture the way we wanted it - with great big shoes\\' .  David Bowie writes about glam in today\\'s Guardian. It\\'s been a while since I played around with customizing  urlLink My Yahoo!  so I don\\'t know how new this is, but you can now use themes in additoin to plain colors. urlLink Streaming video from the Reboot conference , featuring Justin Hall, Dave Winer, Evan Williams, Douglas Rushkoff and others.  It\\'ll make ya think.  Mindjack is now in deep development mode and, through the magic of blogs, you can  urlLink follow the action as it happens .  urlLink Shift is back  with a design that looks  urlLink vaguely familar .  It looks good but those javascript scroll boxes are slooooow. If I had heard Doves  urlLink Lost Souls  album last year, I would have included on my  urlLink best of 2000 list . Hawksley Workman\\'s  (Last Night We Were) The Delicious Wolves  will probably be on this year\\'s list. CNET has  urlLink video of Steve Jobs tour  of Apple\\'s new retail stores. urlLink Ain\\'t It Cool News  has some great clips and pictures from the new Coen Brothers film, The Man Who Was Not There.  I\\'m excited.Yet another redesign.  I think I\\'ll stick with this one for a while. Sure, it\\'s advertising.  But it\\'s  urlLink damn good advertising.  DSL! Feed has a great  urlLink interview with Cory Doctorow  today.  The overlap between Doctorow\\'s day job at OpenCola and his night job writing fiction makes for a unique combination: It\\'s almost like William Gibson launching a company that sells neural plugs and stim-sims.Douglas Rushkoff\\'s Frontline documentary,urlLink The Merchants of Coolis being rebroadcast tonight on PBS (check your local listings).  Set your Tivo or VCR, or watch it as it\\'s on even. I\\'m DSLless for 10 days.  I suppose compared to most other companies that\\'s pretty snappy service, but it\\'s still 10 days without DSL. urlLink FEED  gave the official word today that they\\'re sutting down, at least for the foreseeable future.  The same goes for  urlLink Suck , although it looks like  urlLink Plastic  will be continuing for now. Both FEED and Suck have been online for six years, and have been excellent throughout.  Hopefully they can pull out this funk and come back in one form or another in a few months. Jason Kottke has some  urlLink great pictures from the Louvre  today.  urlLink Great roadtrip article by Mark Frauenfelder  in One magazine.\"A half-century ago, the streets of Southern California were filled with flamboyant towers of consumerism -- spires and obelisks and beacons -- transmitting neon-fortified messages of optimism to families riding in cars with space-age tailfins. Life was good, and the marvels of modern science were making a world as new as tomorrow.\"  Bill Frisell\\'s latest album  Blues Dream  arrived in the mail today and it only confirmed what I suspected.  I have got to get more Frisell.  urlLink blogdex  is a spider that crawls blogs and generates a list of the most linked to sites.  Ten bucks says blogdex itself is number one by tomorrow.  living dangerously  I haven\\'t hotsynced my PalmPilot in a couple of months.  How long can it go before craping out?  Stay tuned.'"
      ]
     },
     "execution_count": 145,
     "metadata": {},
     "output_type": "execute_result"
    }
   ],
   "source": [
    "mystring"
   ]
  },
  {
   "cell_type": "code",
   "execution_count": null,
   "metadata": {},
   "outputs": [],
   "source": []
  },
  {
   "cell_type": "code",
   "execution_count": null,
   "metadata": {},
   "outputs": [],
   "source": []
  }
 ],
 "metadata": {
  "kernelspec": {
   "display_name": "Python 3",
   "language": "python",
   "name": "python3"
  },
  "language_info": {
   "codemirror_mode": {
    "name": "ipython",
    "version": 3
   },
   "file_extension": ".py",
   "mimetype": "text/x-python",
   "name": "python",
   "nbconvert_exporter": "python",
   "pygments_lexer": "ipython3",
   "version": "3.7.1"
  }
 },
 "nbformat": 4,
 "nbformat_minor": 2
}
