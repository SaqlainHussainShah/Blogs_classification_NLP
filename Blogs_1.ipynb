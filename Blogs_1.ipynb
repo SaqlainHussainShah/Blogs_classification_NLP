{
  "nbformat": 4,
  "nbformat_minor": 0,
  "metadata": {
    "colab": {
      "name": "Blogs 1.ipynb",
      "provenance": [],
      "collapsed_sections": [],
      "authorship_tag": "ABX9TyOvoplrKCZKdrBjp65nfI/3",
      "include_colab_link": true
    },
    "kernelspec": {
      "name": "python3",
      "display_name": "Python 3"
    },
    "accelerator": "GPU"
  },
  "cells": [
    {
      "cell_type": "markdown",
      "metadata": {
        "id": "view-in-github",
        "colab_type": "text"
      },
      "source": [
        "<a href=\"https://colab.research.google.com/github/SaqlainHussainShah/Blogs_classification_NLP/blob/master/Blogs_1.ipynb\" target=\"_parent\"><img src=\"https://colab.research.google.com/assets/colab-badge.svg\" alt=\"Open In Colab\"/></a>"
      ]
    },
    {
      "cell_type": "code",
      "metadata": {
        "id": "swsb5oqK7fj8",
        "colab_type": "code",
        "colab": {}
      },
      "source": [
        "import glob\n",
        "import time\n",
        "import pandas as pd\n",
        "from xml.dom import minidom\n",
        "from lxml import etree"
      ],
      "execution_count": 0,
      "outputs": []
    },
    {
      "cell_type": "code",
      "metadata": {
        "id": "I1-Hf9eCLeE3",
        "colab_type": "code",
        "outputId": "63410fe5-d2e0-4c39-9cc0-f0a3624d6e27",
        "colab": {
          "base_uri": "https://localhost:8080/",
          "height": 54
        }
      },
      "source": [
        "from google.colab import drive\n",
        "drive.mount('/content/drive')"
      ],
      "execution_count": 22,
      "outputs": [
        {
          "output_type": "stream",
          "text": [
            "Drive already mounted at /content/drive; to attempt to forcibly remount, call drive.mount(\"/content/drive\", force_remount=True).\n"
          ],
          "name": "stdout"
        }
      ]
    },
    {
      "cell_type": "code",
      "metadata": {
        "id": "zYQmVR2rRYZs",
        "colab_type": "code",
        "outputId": "684af1a2-645d-4abe-bc22-5fe8e76f2079",
        "colab": {
          "base_uri": "https://localhost:8080/",
          "height": 34
        }
      },
      "source": [
        "\n",
        "t1=time.time()\n",
        "path='/content/drive/My Drive/'\n",
        "all_files = glob.glob(path + \"/*.xml\")\n",
        "li = []\n",
        "\n",
        "for filename in all_files:\n",
        "  # print(\"file name \", filename)\n",
        "  li.append(filename)\n",
        "    \n",
        "\n",
        "t2=time.time()\n",
        "print(\"time taken to read All csv :: \", t2-t1, \" seconds \")"
      ],
      "execution_count": 23,
      "outputs": [
        {
          "output_type": "stream",
          "text": [
            "time taken to read All csv ::  0.002388477325439453  seconds \n"
          ],
          "name": "stdout"
        }
      ]
    },
    {
      "cell_type": "code",
      "metadata": {
        "id": "rQVu2e7f1f0g",
        "colab_type": "code",
        "colab": {}
      },
      "source": [
        "def clean_file_names(li):\n",
        "  # names_list=[]\n",
        "  # for i in range(len(li)):\n",
        "  name_list=li.split('/')[-1]\n",
        "  return name_list"
      ],
      "execution_count": 0,
      "outputs": []
    },
    {
      "cell_type": "code",
      "metadata": {
        "id": "htm2s-cA35zN",
        "colab_type": "code",
        "colab": {}
      },
      "source": [
        "def get_attributes_from_name(name):\n",
        "  # data_object=[]\n",
        "  # for data in range(len(names_list)):\n",
        "  #   dummy_var=names_list[data].split('.')\n",
        "  #   dummy_object={'id':dummy_var[0], 'gender':dummy_var[1],\n",
        "  #                 'age':dummy_var[2], 'category':dummy_var[3],\n",
        "  #                 'horoscope':dummy_var[4]\n",
        "  #                 }\n",
        "  #   data_object.append(dummy_object)\n",
        "  dummy_var=name.split('.')\n",
        "  data_object={'id':dummy_var[0], 'gender':dummy_var[1],\n",
        "                  'age':dummy_var[2], 'category':dummy_var[3],\n",
        "                  'horoscope':dummy_var[4]\n",
        "                  }\n",
        "  return data_object"
      ],
      "execution_count": 0,
      "outputs": []
    },
    {
      "cell_type": "code",
      "metadata": {
        "id": "9nh2DZtn4bqB",
        "colab_type": "code",
        "colab": {}
      },
      "source": [
        "#  name_list=clean_file_names(li)"
      ],
      "execution_count": 0,
      "outputs": []
    },
    {
      "cell_type": "code",
      "metadata": {
        "id": "Llr4juyU5oiE",
        "colab_type": "code",
        "colab": {}
      },
      "source": [
        "# data_object=get_attributes_from_name(name_list)"
      ],
      "execution_count": 0,
      "outputs": []
    },
    {
      "cell_type": "code",
      "metadata": {
        "id": "Hlyk_41G7aCk",
        "colab_type": "code",
        "outputId": "d1d04e7c-d001-46fb-c51d-998205a1c7fe",
        "colab": {
          "base_uri": "https://localhost:8080/",
          "height": 885
        }
      },
      "source": [
        "data_object"
      ],
      "execution_count": 28,
      "outputs": [
        {
          "output_type": "execute_result",
          "data": {
            "text/plain": [
              "[{'age': '39',\n",
              "  'category': 'indUnk',\n",
              "  'gender': 'female',\n",
              "  'horoscope': 'Sagittarius',\n",
              "  'id': '17944'},\n",
              " {'age': '25',\n",
              "  'category': 'indUnk',\n",
              "  'gender': 'male',\n",
              "  'horoscope': 'Scorpio',\n",
              "  'id': '5114'},\n",
              " {'age': '26',\n",
              "  'category': 'Technology',\n",
              "  'gender': 'male',\n",
              "  'horoscope': 'Aquarius',\n",
              "  'id': '11253'},\n",
              " {'age': '25',\n",
              "  'category': 'Student',\n",
              "  'gender': 'female',\n",
              "  'horoscope': 'Aries',\n",
              "  'id': '11762'},\n",
              " {'age': '24',\n",
              "  'category': 'Consulting',\n",
              "  'gender': 'male',\n",
              "  'horoscope': 'Cancer',\n",
              "  'id': '8349'},\n",
              " {'age': '26',\n",
              "  'category': 'Internet',\n",
              "  'gender': 'male',\n",
              "  'horoscope': 'Scorpio',\n",
              "  'id': '7596'},\n",
              " {'age': '23',\n",
              "  'category': 'Marketing',\n",
              "  'gender': 'male',\n",
              "  'horoscope': 'Taurus',\n",
              "  'id': '9289'},\n",
              " {'age': '25',\n",
              "  'category': 'Communications-Media',\n",
              "  'gender': 'male',\n",
              "  'horoscope': 'Aries',\n",
              "  'id': '9470'},\n",
              " {'age': '42',\n",
              "  'category': 'indUnk',\n",
              "  'gender': 'male',\n",
              "  'horoscope': 'Capricorn',\n",
              "  'id': '8173'},\n",
              " {'age': '34',\n",
              "  'category': 'indUnk',\n",
              "  'gender': 'female',\n",
              "  'horoscope': 'Cancer',\n",
              "  'id': '15365'}]"
            ]
          },
          "metadata": {
            "tags": []
          },
          "execution_count": 28
        }
      ]
    },
    {
      "cell_type": "code",
      "metadata": {
        "id": "KcOxZKFYuL6Q",
        "colab_type": "code",
        "colab": {}
      },
      "source": [
        "parser = etree.XMLParser(encoding='ISO-8859-1', recover = True, huge_tree=True)\n"
      ],
      "execution_count": 0,
      "outputs": []
    },
    {
      "cell_type": "code",
      "metadata": {
        "id": "EnxKUPlWTkym",
        "colab_type": "code",
        "colab": {}
      },
      "source": [
        "def read_xml(li):\n",
        "  all_objects=[]\n",
        "  for i in range(len(li)):\n",
        "    # print(\"i will run \", i+1,\" times\")\n",
        "    name_of_file=clean_file_names(li[i])\n",
        "    # print(name_of_file)\n",
        "    \n",
        "    data_object=get_attributes_from_name(name_of_file)\n",
        "    # print(data_object)\n",
        "\n",
        "    post_text='  '\n",
        "    tree = etree.parse(li[i], parser=parser)\n",
        "    root = tree.getroot()\n",
        "    for element in root.iter():\n",
        "        if element.tag == 'post':\n",
        "            element_text = element.text\n",
        "            post_text = post_text + element_text\n",
        "    mystring = post_text.replace('\\n', '').replace('\\r', '')\n",
        "    mystring = mystring.replace('   ', '')\n",
        "    # print(mystring)\n",
        "    # name_of_file=clean_file_names(li[i])\n",
        "    # data_object=get_attributes_from_name(name_of_file)\n",
        "    data_object['posts']=mystring\n",
        "    all_objects.append(data_object)\n",
        "\n",
        "  return all_objects\n",
        "\n"
      ],
      "execution_count": 0,
      "outputs": []
    },
    {
      "cell_type": "code",
      "metadata": {
        "id": "K--w7WtyT4oP",
        "colab_type": "code",
        "colab": {}
      },
      "source": [
        "data=read_xml(li)"
      ],
      "execution_count": 0,
      "outputs": []
    },
    {
      "cell_type": "code",
      "metadata": {
        "id": "-rqzZv-JT79u",
        "colab_type": "code",
        "colab": {
          "base_uri": "https://localhost:8080/",
          "height": 141
        },
        "outputId": "9efaea1f-df55-4b29-e505-aa02722c0ca5"
      },
      "source": [
        "data[0]"
      ],
      "execution_count": 94,
      "outputs": [
        {
          "output_type": "execute_result",
          "data": {
            "text/plain": [
              "{'age': '39',\n",
              " 'category': 'indUnk',\n",
              " 'gender': 'female',\n",
              " 'horoscope': 'Sagittarius',\n",
              " 'id': '17944',\n",
              " 'posts': '  \\t this blog is not about spooge\\t this is a test to show my mother what a weblog is and how easy they are to start, but she doesnt give a shit\\t this is a test to show my mother what a weblog is and how easy they are to start, but she doesnt give a shit\\t not too shabby.i had already eaten dinner, plus earlier a couple of chips with guac, several deviled eggs and some olives. took meds at 5:45\\t well, i didnt really eat a breakfast - several slices of pepperoni and a large english cuke. However at TJ\\'s I had a small cup of coffee and cream and I just wolfed down a cup of cottage cheese. I dont know how soon the sugar soars after ingestion. time for a med.i either mised my glipizid this morning or taking an extra one for lunch. \\t okay okay okay. we know that even if I dont eat, if I dont take my meds my sugars are high, is this residual sugars floating aronud? I think the secret to low morning sugar might be the length of time from when I took the last meds, so I will need to talk to the doc about that. I took meds at 6:30 last night., and ate some steak (thats it. meat only, no carbs) at 9:30 or 10 pm.\\t so taking meds now to abate dinner, but I think the problem with morning blood may be the time between meds?  Last night however, i took them rather late, because I ate rather late.  I will not eat dinner for a couple of hours, we\\'ll see what happens in the am. but even if I get up at the crack of dawn, it will have been about 12 hours since meds. good luck to me. ps, I ate another handful of raisens (30 carb) and 7 whole curried eggs (7 carb for eggs 3 for curry), which explains why im not hungry.bleh.  ANYWAY, still way less carbs than normal\\t not too shabby, i am feeling a little lightheaded and trying to gauge when my sugars are low or high.i took one glucophage at 1pm but did not eat. about 90 min ago I had a about 10 raisens (naughty, probably 15 carbs just there) and a bowlful of broccoli and cheese. This eaten at least two hours after taking my meds. \\t yeah buddie!  Had 4 eggs and chorizo for breakfast, snack was en entire english cuke. sippin on splenda kool-aid right now. no ttoo hungry for lunch.I have not been taking the metabo boosters, I think they were nauseating me\\t so... whats the secret?  last night i took my meds at ten and I had, only 4 eggs con chorizo - 4 carbs. nothing for 10 hours. why is my blood sugar so fucking high?  dammit  also, I feel heavy today. total carbs yesterday less than 60, so what gives. \\t had an entire english cuke about 4:00 and half a nasty atkins shake just a bit ago. I havent had meds since 1pm and my blood is 114. YES!  time for meds and some flank steak. \\t big bowl of kale soup - about 20 carbs  half cup cottage cheese - 5 carbs  one glucophage and one glipizid.i\\'m still hungry!\\t not too good. lets see, I took the evening meds at about 5:30, but i ended up eating a big meal at about 9 or 10. I did not eat lunch, but I had an english cucumber with dressing - 6 carbs - when i took the meds, in an hour or two i was starving, so i ate about 3\\\\4 cup of cottage cheese - 7 carbs, big hunk o\\' mozzarella - 4 carbs and a big bowl of kale soup - 17 carbs.total carbs for the day less than 40, but most of them more than t hours after I took my last meds.conclusion:- meds are fast acting, I should eat right after I take them.- I shouldn\\'t eat after 9pm maybe even earlier.HOWEVER - I haven\\'t eaten a thing in over 8 hours, so really, this is not good.Also, yesterday I woke feeling light and airy. Today I feel heavy. 40 carbs is probably about 500 carbs less than I normally eat in a day AND I took all three glucophage and both glipizid. I really do not want to start shootin up insulin, dammit. \\t blogging from my skytel pager kicks ASS!! \\t breakfast, two eggs and several pepperoni slices, a large bottle of tea java. about 3 carbs total. took glucophage and glipizid just before eating. 3 hours later blood sugar at 145. not too shabby, but it should have gone down more. \\t YES!!!!  135!!!!!  alrighty then. \\t today  3 eggs, cheese, bacon, avacado, sour cream and tomato omlette - about 10 carbs  half a pria bar - 2 carbs  3 eggs, most of a lo-carb tort, 1\\\\2 cup beans with cheese about 28 carbs  not bad but i felt nauseous all day\\t five hours later, blood is 190. maybe i should create a blood blog and link it. will figure it all out later.I want to track food, blood sugar, exercise and my thoughts.  I want to RAH RAH SIS BOOM BAH myself.I want this scooter, its a 64\\' model just like me, and green flatters me so:  urlLink scooter loveor this (freakin AWESOME):urlLink  more scooter loveand look at all these yummy ones!  urlLink  scooter woodstocki will treat myself when i reach goal\\t dont feel well. dont know if its the metabo boosters or the glucophage, but i havent felt well all week, upset stomache. \\t three hours and one glucophage later my bloo is at 202. things are worse than I imagined. the good news is, im watching it. perhaps the glucophage needs to kickin over a period to have me be more responsive, I am going to start taking cinnamon at least 1 tsp a day, per a report i read that some people are usoing that and diet alone to regulate thier sugars. it is obvious that the correct diet (less than 60 carbs a day should be more than sufficient) is not enough for me to combat this. \\t i know im getting obsessive, but i need to get a handle on this goddamn sugar crisis.\\t crap. full night of fasting plus glucophage and glpizid, and my sugars are still 185. what kinda crap is that?\\t I really should re-read the atkins book before starting. do i want to jump into full on induction phase eating 20 carbs or less a day, or acclimatize myself? I dont know. I think i lived on t-bone steak, cream cheese celery and macadamia nuts the first time.blah\\t 235 one hour after dinner. I had a glucophage this morning and hardly any carbs all day. this is depressing. after fasting my sugar should be at 120 or less, after eating i think at 150.  I should be taking three glucophage a day and two glipizid. its apparent to me that even if I ate nothing, my blood sugar is high, how do you escape that? fuck. I hope if my weight goes down to 150, the diabetes will go away. thats the goal anyway.poop. tommorrow is another day\\t its not working. :( maybe the skytel email isnt fast enough, but what the hell? \\t my pop just offered me one grand for every ten pounds i lose.i need to lose about 100.thanks dad, i love you\\t shrimp louie salad - 12 carbs can of black olives - 9 carbs protein bar - 3 carbs smart water - 0 carbs big juicy steak - 0 carbs  3 cups zuchinni w\\\\ little onion - 15 carbs  half a big cucumber - 4 (fiber?)  all in all not bad,plus 2 booster pills with cayanne, greentea leaf etc.I have not officially weighed myself yet, will do that at the gym tommorrow. \\t  urlLink me july 4 last year. good pic, doesn\\'t show chins three and four urlLink\\t i am almost 40 going on 14. i weigh in at about 240 my blood sugar is high. close to 200. i am losing my hair (thanks hormones)  last week at my optomitrist, she said if i keep this up, in 8 years i will have retinopathy. not sure what that is exactly, but it dosn\\'t sound good.So, I begin the atkins plan, medication therapy for my hormones and some sort of exercise (sorry hair, you\\'re sol)  and this is the blog.each journey begins with one step\\t woke up at five am,,, realized I hadnt taken my last glucophage last night!!!!! (and I had some carb solutions ice cream at 11pm, bad kitty) so I tested, fearing the worst, and I was at 76!!!... so I took the glucophage and woke up now to 81. SO what is the moral of this story? is the glucophage raising my sugars at night? wtf is going on ?  im so confused. \\t ham sandwich for lunch, about 1:30. i had some cereal for breakfast, thats it. took glucophage at 2pm.  had stiry fry fresh green beans for dinner, yum, with a hamburger patty.. earlier, around 4pm had about a cup of carb options butter pecan, which was extrodinarily good.. Its now about 2 hours since dinner, and I have not had any meds since lunch.. so my blood sugars leveled off nicely on thier own. took glipizid just now,, will take gluch before bed. ho hum. :)\\t not bad.again, to tired to get up at 4am to take meds. dammit. but, what I did yesterday as take glipizid with dinner.. and 2 hours later I was at 95 which is great.. and then took the glucophage at midnight.  I will try that again tonight. \\t last night blood was 110, which wasnt bad since I ate late, didnt take meds till 40 min after dinner, and had a huge peice of so-call sugar free candy before going to sleep at about eleven.  I guess it realy is sugar free then. thank god  i finished it and can only buy it fromt he traveling road show at costco.anyhoo.. could not rouse my self to test and take meds at 4:30. so 7:20 blod was 111 and thats not too bad. \\t Blood has been okay i guess.. 110, 119 afte reating, 99 before aft. snack.  the people on the atkins board seem to think that fasting sugars above 100 are nt acceptable, while the ADA seems to think that up to 120 fasting is okay. so who is right? I dont think there is damage at under 120.. and my levels after eating (within one hour havent been over 140 and within 2 hours have been about 120-126, which is okay. the problem niggling me has been the morning sugars. there is definately something going on. the glucophage i beleive just increases the insulin sensitivity, the glipizid, im not sure, but I beleive it actualy decrease the sugar. So.. im going to do too things, not take my meds until after dinner, about 10 pm, and in the am, take the glipizid at 4:30 and the glucophage before breakfast.so there.i got the blues.\\t okay, trying to outsmart this thing, I set the alarm for 4:30 am, to test and take my morning meds early.I couldnt rouse myslef till five, and I tested (on my arm) at 114. I took only glucophage, thinking both might be too much, and what about breakfast?  went back to sleep and woke up at 9am, and my blood is 121.shit.then i immediately tested my leg, which showed at 130!  so the good news is, I\\'ve been probably testing too high, since leg was my testing site of choice, and  I\\' supposed  to be testing from my fingers or arm.however, i cannot seem to beat this fucking high morning sugar thing.tommorrow I will trytaking just hte glipizid, and next day, both.  but now I have to see if its going to scew up my breakfast reaction. Had about 9 grams carbs with high fiber ceral and cream this morning. \\t i\\'m having one. although my blood sugars (hereafter known as BS) are pretty close to normal now, and my blood pressure is down as well as my pulse rate, Im pissed at my body. Im pissed that missing my meds even at this low a carb intake, causes major BS spikes, i\\'m not losing any weight and none of these changes has improved my housekeeping skills.bad day, but sugars normal. 30 day avg is 110!\\t this pains me. I had a salad and a nasty atkins banna muffin for dinner, and I ate at about 7pm ish.. definately didnt have any food after 8 and took my meds when I ate dinner.so do I eat before six, do i take my meds late? do i take only the glipizid at dinner... i dont know.it just pisses me off that I am so reducing my  carb intake and still have high morning bloods .  also, I had a dream last night, part of which included me making a take home plate at a party, from a table groaning with many many different kinds of pie.pie.ok and someone mentioned making faux apple pie with jicama. whaddayathink?\\t 14 day avg 105  30 day avg 114  no breakfast (baaaaad kitty) salad and klondike bar for lunch - 8 carbs leftover stirfry for snack - 5 carbs\\t finally! - now I dont know if thats because i had stir fry only for dinner (because I ate late) or if I took my pills so late. i may even have double up, but i usually get a tummy ache when I do, and i feel fine.anyhoo I am not knockin it. yay!\\t  urlLink eBay item 4130354226 (Ends Jul-08-04 17:19:29 PDT) - Lens Kit for 3Com HomeConnect WebCam/Camera \\t AND i had a klondike fudggickle less than an hour ago (3 carbs total)  im feeling kinda fat tho, i need to gear up for atkins induction to drop some weight..  i am going to test and micromanage a one month menu, before I begin, then it should be easy sailin.  good things :  tiny lamb roasts saute\\'d in olive oil and fresh garlic flap meat marinated in soy and flame grilled klondike lo-carb bars ben and j\\'s no sugar added strawberry pork tacos (soft) with la tortilla factory wheat tillas cukes koolaid \\t blah.\\t the bad news is, they found a spot on my retina, and now i have to get dilated and checked (my eyeball, not my coochy, get yer mind outta the gutter) for any more abnormalities. good news is if I keep going with my sugars as I am, the problem should be arrested right here.weird news, I decided to take back my new frames (the bifocals) because the reading glass portion wasn\\'t strong enough and i couldn\\'t read my beloved adult swim text from my usual perch on my bed, anymore. it seems that the blood sugar effects the lens thickness of my cornea, and now, 30 days later, my prescription has changed. so they are redoing the lenses. good thing, because the photo gray dip was crap, and they needed to dip again.haven\\'t eaten much today and i need to make dinner for myself and the mijo.  morning blood was 110, current blood is 90 and forgive me, but i will not stop congratulating myself for  doing well with the blood. \\t  urlLink oh lord i love this she really irks me, that omarosa\\t no posts ent thru while i was on vaycay, which is wierd, because they showed successful as emails from my bloody pager.blah balh, cheated here and there, blood sugar was okay for the most part. I have to get out of the mind set that i need to be below 100 for regular checks, mom and dad are not, so its cool to be 110 or 108. my 30 day average is below 120, and thats grand.i am going to register a new domain so i can multi blog here, side blog daily blood and carb counts, et al.this will cost about 80 bucks for 2 year domain reg and 1 year hosting (@logjamming.com, yay), so be tuned for a change.my main goal right now is getting this house in order and keeping the blood sugars low. on the horizon, need to pay for west la ticket, ians sleep away camp, and car registration, with ins looming on the horizon. there fore i bought some clothes and make up. (hey, it\\'s a natural high).  off to costco it is. \\t this is great.. had jello and whipped cream when i woke up (couldn\\'t resist) and Mom took me to carrows, where I had a salad, 2 eggs and bacon, and hot tea with cream.. total breakfast about 12 carbs. less than 2 hours later i am lower than when i woke up, sugar wise, which is a big deal. still packing for the trip, heading out in a couple of hours. \\t i think i could live on this and whipped cream.nuff said\\t WAHOO! going to bd bllod at 11:30 was 125 and I was sad..thinking this morning was going to be bad... but I think I ate too late and didnt wait long enough to test. so. thats cool then. doenst explaoin other high sugar mornings when i\\'ve gone to bed with bloo in the high 80s or low 90s. anyhoo..  yay!\\t ok. morning blood 2 hours after breakfast, 92. had delicious black tea with cream and about 3/4 tsp of cinnamon, which is supposed to lower my blood sugar. 40min later i can feel it, im getting hot etc, and i know the use it alot in metabo boosters, so i test, but my blood is 96. oh well, i should prob wait a little longer and test again :p \\t  urlLink oh lordy urlLink\\t lost two since last time I checked. yay\\t forgot to take my meds at noon, having a helluva time with a t1 install at a beautiful (ha) best western. also, didnt eat anything but 4 cheese sticks and kool-aid in the morning. 4 carbs.  looked at an apt with my mom, and had a lettuce wrapped swiss and ham sammy - 3 carbs.  home now, took the evenng meds and had some orange roughy for inner, with cuke and dressing - 6 carbs. also going to make some miso - 3 carbs. perrier and koolaid - equals yummy soda  patent blend 8 packets equal and 4 splenda per unsweeteened package of kool-aid\\t wish it was lower. \\t wish it was lower. \\t im sleepy. see you tommorrow.\\t later, around 5:30 pm and just after a couple of chips )oops) it was 107. havent taken evening meds, yet, waiting till 9pm.. having a salad now, steak later. \\t this hormone thing is getting out of control. dawson\\'s creek is making me cry.dammit\\t not too bad, but it should really be in the 80\\'s. breakfast - tw waffles, two eggs, 13.5 carbs\\t took my meds at 9, hope it stays low.. not eating tonight\\t i don\\'t know wht i havent  eaten anything since this aft. although about 7 minutes ago  i drank an \"emergen-C\" vitamin packet. about 4 carbs, and all of them sugar.. i\\'ll test again in an hour. \\t I finally did it, all but the bottom shelf. WHEW!  4 grocery bags stuffed with food, lots of pasta, pancake mix, jello, jello, jello... big part of me is wanting to save it, what a waste.. I think we are taking it the the homeless shelter later...  any way, delete all the crap from the house, so i am not tempted, or ian, when there is nothing \"legal\" to eat.  so far we\\'ve been okay, but i\\'ve been meaning to do this for some time. actually filled two trash cans with stuff that could not be used, opened bags of pasta, old candy, two bags of unsweetened shredded coconut (unopened, but circa last atkins attempt, bag read \"sell before dec 2000\" haahaha)  alrighty then, current blood is 97\\t actually I didnt wake up until ten, and of course hadnt had meds for 13 hours. i really need to wake up at 5 am, if only to take the meds.reading some atkins bb, i found several interesting diabetes tidbits.  most of them scaring the hell out of me.. i can\\'t keep dwelling on the damage done, can only go forward, ut i hope im not incapacitated in ten years time. dammit.also found out that many many people have the phenom of going to sleep with good sugars and waking up with high sugars. everyone is different, and as I suspected, I am going to have to play with my schedule and diet to get it right..  mom suggested hot tea and cinnamon before going to sleep, i think thats a good idea.i\\'ve been slightly snacking all morning.. heart of palm, .5 carb, 5 so7y flax chips 2.66 carbs, deviled eggs and some chorizo 6 carbs, ben and jerrys no sugar added super fudge CHUNK! 5 carbs.current blood for this aft is 89.  yay.\\t yippidy do dah\\t even tho i was snacking all morning, - two lo carb waffles 11 carbs, two lo carb klondyke bars, 10 carbs. english cuke with dressing 5 carbs, 1.5 chicken spinach fontina sausages 1.5 carbs .... and still 94, which is great.i wonder if there is a time release glucophage for night time, or if i should add some meds i dont know.any hooo.. cant stop munching today. having an avocado with chips - 11 carbs. \\t i dont know how, but im back on track.yee haw\\t i just dont understand. back to the drawing board\\t nothing since 10:30 am except meds and my blood is 118. what gives???????\\t this is great. pre lunch blood is 114, down signifcantly in one hour. all in all I think i am doing well.  30 day average 125, still very good. stats say 70-140 is normal.. or considered okay. I want better than normal. based on how I am feeling now, and how i was feeling before, even before I gave birth, this problem had probably been borderline for sometime, also ... many overweight people never get this, or when they do, they are topping the scales over 300... I was never near that, so i have to assume its in my genes. so no blaming.ok. later\\t this isnt bad, less than 40 ,min since i finished a meal at the california culinary acadamy, my young cousins class hosted a luau, i had a breaded shrimp, lobster salad, teriayaki chicken, roast pork, three lamb loin chops and some veggies as well as several bites of various desserts.. probably intook at least 50 carbs.  (but i didnt eat any bread or entire dessert, i maintained).  then I went to starbucks with my mom, blackiced tea with cream - 2 carbs and we got into a spat, blah blah, what else is new? so i will simmmer down, i walked home. \\t what the hell is going on? im not doing anything different than before! Crap!\\t mom hadn\\'t seen  me for about 4 weeks, and she said she could see a differnce in my appearance immediately. i think its just the water.. i carry about 20 lbs in water retention... but still.. its something.\\t had some hearts of palm - 2 carbs and bag of no carb citrus slices (66 sugar alcohol. one hour later my blood was 135!!! apparently they DO effect my blood sugar.had 2.5 fried tacos on mission whole wheat lo-carb tortillas - 10 carbs and some clavasita (zucchini with onion tomato and cheese) 8 carbs. good dinner.took my meds at 7pm, was still snacking a bit on veggies at 8pm, my blood sugar is now 116. it\\'s not been a banner day here. \\t i feel headachey, fat, bloated and generaly disgruntled, blood was 104 just now and 110 2 hours ago, havent eaten since 10:30 am, i should be lower!!! \\t while this isn\\'t horrible, i wish it were lower. espcially since i\\'ve been hungry since breakfast.. i think it was really just the cheesy bread, so savory, made me want to eat something good.well i\\'m not going to fight it, but I\\'m going to have a salad. 6 carbs.avocado, cuke, cheese, lettuce, cilantro, pepperoni\\t lo-carb waffle - 5.5 lo-carb orowheat 1 slice - 6 carbs 2 eggs and cheese - 3 carbs  total 14.5  by the way, orowheat breat, liberally applied with clearman\\'s cheese spread (no carbs) is a DELIGHT.  \\t yeesh. i had ben and jerrys 1\\\\2 cup no sugar added deliciousness last night at 9pm, right after i took my meds... but i still don\\'t understand the chemistry of all this.ben and jerrys no sugar added super fudge chunk, 18 carbs per half cup minus 5 carbs fiber minus 8 carbs sugar alchohol. 5 cabrs per serving!!!! yippee!!!! okay.. i need to try the lo carb heaven one now.. \\t had dinner about 8,  pork stir fry and a lo-carb dessert - total carbs 9, had several eggs about 4 - 5 carbs didnt take my meds till just now. after dinner blood is 110, whis is great\\t i havent eaten since this morning or taken meds.had half a STRIVE bar (very very good, but about 33 sugar alchohol type carbs, doesnt seem to have effected my blood sugars at all. Had one lo-carb waffle and 4 eggs for breakfast (deviled) 9.5 carbs. half a strive bar and iced tea with cream 4.5 carbs. im not really hungry tho. but i should eat. i beleive consistant eating schedule is key to the sugars. but quien sabes que?\\t morning blood 107 poop i had a large salad and a locarb klondyke bar 13 carbs total? after 8pm took meds at i, actually had the icecream at 10pm live and \\'earn. i feel heavy \\t cruisin\\'\\t plans for this blog -multi blog includes to track carbs and blood.  blog link strictly for lo-carb food reviews.  blog link to picture tracking.new color scheme  - toying with a tree green or a sunny orange on white. maybe some sort of include, for the multi mini blogs on the side.i need help! and or a long weekend  I am pretty fucking excited tho, because so far this experience has been very calm... none of the desperation of a diet, even the first one, considering the impetus was going blind in the not to distant future. it suprisingly easy. but i am not pushing hard on the weight loss, i\\'m pushing hard on the sugar control. both ian and i have been eating lots more veggies, but i should look into multi vitamins as i heard that the high protien diet leaches calcium.ian is not on atkins, but really just cut out most breads and definately pastas. he is having a sandwhich at lunch for school, but that is the most grains he gets. i will look into lo carb pastas, but i want him to get into the habit of complex carbs, such as beans and whole grains. when we went to p.f. changs (who by the way, has a whole side menu listing nutritional content) he ate about one quarter of the rice he was served. i was proud.  as a society in general we shovel gobs and gobs of crap in our mouths daily and think nothing of it. now that i\\'m eating right, i am feeling so much better, due entirely to my sugar levels regulating, but it feel somewhat like a miracle and i don\\'t know why it took this long to reach this space. i fear i have done minor damage that will rear its ugly head in 10 years and slam me to the ground.all that means is live now. because i cant stop that, i can only fix where i am. my body is so forgiving to me tho (10 years of abuse, and 2 weeks im almost back to normal again) that i have high hopes of self regeneration.getting to the gym has not yet happened. I MUST DO THIS.  some one light a fire under my ass please. \\t extreme nausea. i feel pukey. was it that turkey bacon thingy? my ketones? I dont have rank breath so i dont think im ketone-y (too bad since that equals fat burning) but urgh. blood is 86. again, very good blood stats today!\\t meds and a large salad with lettuce\\\\tomato\\\\avacado\\\\celery\\\\pepperoni\\\\cuke and this little turkey mignon medallion thingy - about 7 carbs total.  wishbone carb solutions olive oil vinagrette is da bomb people.  \\t i don\\'t like waiting and i don\\'t like when my  customers make me wait for no good reason. i scheduled this service at his convenience and somehow hes in conference when i arrive, can some one else show me to the pc i need to fix? noooooooo i must wait. fuk em at 65 an hour, i\\'ll wait. the great news is my blood one hour after breakfast was 96. that rocks, i mean really rocks.  \\t wow. funny thing is, I dont feel light, i feel kinda bloated and i\\'ve had muscle soreness getting worse and worse by the day, my shoulder is really killing me. poo  breakfast - lo carb waffle and 2eggs with cheese arb count 8.5  TA\\t carne asada and a big salad. hansens kiwi strawberry soda (diet of course)\\t 10 carbs later (about 90 min) my blood is 108. not bad. \\t Is very good. or rather a very good compromise. For anyone who has ever been to the northwoods in, or the boat, you\\'ll know how delicious thier cheesy bread is. spread generously over orowheat and broil. DELICIOUS and only 6 carbs per serving.total carbs today so far, less than 30\\t all the toppings of a costco combo pizza slice and half a polish sausage with mustard.. also one lo-carb klondyke bar (only 5 carbs and a little bit of heaven) sooooo.... took my lunchtime meds at about 1:30, ate at about 3:30,  total carbs, I\\'m going to give it a 12.  \\t ok ok i know it\\'s obsessive, but i checked my blood again when i finishd my service call, 82, so its gone down 17 points in one hour. brave new world. \\t i feel light headed and shakey, sounds arelike i\\'m ina awell, felt  like this before i fainted(the one and only time) so i pulled over to check my sugars and i\\'m at 99? wierd \\t waffle at 7:45 - then i had to dash, i\\'m going to make a salad now, don\\'t know if i will have time for lunch.ps. except for dawson, dawson\\'s creek still totally rocks my world.also, lets hear it for giant salads - entire avacado, and various veggies - probably 10 carbs max\\t looking good, looking good.  and there is a way to incorporate more than one blog, it will just take some work. alot of work. I really need to think about getting a new domain and host. i have a full freaking day of work ahead of me, so  blah it\\'s a monday.\\t but i havent had my salad yet. maybe I\\'ll just go to sleep\\t just ate - lamb chops and salad with cheese, tomato, cuke, cilantro and pepperoni yum. probably about 5 carbs. Had a klondyke lo-carb bar after getting that 64 reading.. it only has three net carbs, but alot of these sweet treats have sugar alchohols, great for the diabetes, but no stored fat will burn until the sugar alcohols do. still, I am feeling well in general and on the right track.my shoulder has really been bothering me and I need to start therapy for this - apparently frozen shoulder is a symptom of diabetes. and it hurts.took my meds and I\\'m going in for another salad.night\\t okay. thats too low. time to eat. \\t breakfast was late, 2 eggs, some corned beef hash and two lo carb waffles. 13 carbs total. lunch - an avacado with 8 flax seed tortilla chips - 10 carbs total. Oooh and some yummy grape k00l-aid.  yup I know this blog is boring, but its meant as a tracking diary, not track side entertainment, HOWEVER - I would like to revamp it a bit to somehow include - food diary, blood tracker, weight tracker.  what I dont want is to have to update the template every time. but it would be nice to view it simply, on a side table - such as daily blood, daily carbs, weekly weight. I love the simplicity of blogger and the fact that I can post from my pager, you must admit, is wicked cool.I also need to take some mofugly pictures of me in a \\'tard and tights or something, and update that weekly - eventually compile them into one animated gif - \"the amazingly fine shrinking kitty\"  mom and pop are proud of my progress (which really should have begun 10 years ago - but ni modo) and that makes me feel fine. im such a needy kitty, requiring validation at every turn. this is why I would make a splendid rock star. Vh1 presents, \"behind the kitty\" HAH \\t 14 day average 135 - looking good. \\t about one hour nad a half after ingesting at least 20 carbs, 11 of which were grains, my blood is 112, excellent as mr. burns would say, excellent\\t well.. got my butt out of bed and had some celery and spinach dip 3 carbs, a whole avacado 6 carbs and 2 low carb waffles 11 carbs  total today, about 24 carbs.\\t i feel okay tho, not fainty. this morning it was 125, but i ate late.. and I didnt take any meds until 9am.. @ noon, it was 96. I had 3 deviled half eggs, a handful of almonds and prettymuch forced myself into a map/ its 3:15 and I pretty, much havent eaten anything today. also.. if my moms scale is correct, i lost 9 pounds.  beej wants to go to the movies, but we\\'ve already seen potter. what else is there??\\t aft blood 89!!!!  forgot to bring my pill box tho. 2 eggs and a whole avacado for breakfast 8 carbs and nothing since \\t hell yes again!  dont feel too bloaty. but woke up in the middle of the night with horrendous cramps\\t at 330 today my blood was 99 and I had 2 protien burgers - 22 carb-os  taking my meds now, and going to eat in about 30 min, i shouldnt eat this late, i will be bloaty and stuff in the morning, and tho it will be lo carb and my total daily carbs should be under 60.. \\t having a caca day, cant seem to get off the friggin phone, one thing after another and i am going to miss the hollywood calls \\t at 7:45 I ate a waffle - 5.5 carbs - and took my meds. about an hour later i\\'m at 126 - i think thats pretty good\\t HELL YES!  :) took my meds about 9:30 last night.. but didnt eat after (ate before - steak and broccoli)  had a TJ waffle for breakfast. so tasty, i cant believe its only 5.5 carbs.\\t aft blood 110finally, somewhat normal, but i haven\\'t eaten since 11 AM  \\t four eggs con chorizo 4 carbs.  one lo-carb waffle 5.5 carbs, one cup lo-carb milk 3 carbs \\t this is ridiculous. I had one low carb Trader Joes bluberry waffle - 5 carbs (supposedly) and two meds. so what gives!  plus im hungry.plus im hungry.  plus im hungry.\\t caca. one day of cheating, a little cheating mind you.... I probably had about 150-200 carbs yesterday and I took all my meds. when I think of how  i was eating just until a week ago.. i shudder.. i would take in, hmm.... 400-600 a day easy i\\'m sure. and on days when i had a sweet tooth. argh.i feel like im going to explode. i can\\'t worry about whats done, its done. but tis scary to think of the future. ever vigilant.if i can lose the weight, at least 50 pounds, then i beleive my sugars will react better. hopefully the glucophage therapy will beat my ovaries into submission and assist. but menopause approaches and its going to be a downhill battle.not a good morning.plus, someone bought my company. I\\'ll get the scoop at the 8am conference call. at least its LA based, not dallas, perhaps they will be more sensative to our gas plight and jack up the milage. \\t 4 hours later my blood sugar is 146 which is not good dammit. never again \\t day 8 and i cheated. and it was bad food! i ordered stroganoff, lite noodles, but it was more like congealed beef stew over noodles? i only had a few egg noodels, like less than 1/4 cup, but the meat tasted real flour-y and i had a small slice of banana bread. 50-80 carbs for this bullshit meal, and i will probably get tummy cramps to boot. live and learn, should sprang for the t-bone!! \\t 11 AM and i havent eaten anything, nor did i take my meds, blood sugar is 165 this means meds are key, food, not so much. going to take meds and eat a big lunch now. ta! \\t rock on. took meds 14 hours ago, but did not eat after about 7:3 0or so. woke up feeling very light. \\t  urlLink Palm Store - Factory Outlet: palmOneï¿½ Tungstenï¿½ T3 Open Box Handheld  this is the one for me, 110$ discount for open box plus, join palm book club and get another 100 bucks off (but pay 10-15 bucks a month for one year) which is kinda like credit.... plus I get a free book once a month. so total out of pocket is 188$ for a kick ass palm, plus hardcase and 2 cradles.i need 500$ for the phone and the palm. and I need it quick. \\t  urlLink Sanyo - Dual-Band Tri-Mode PCS Cell Phone w/Camera (Sprint) - Blue - PM8200KITU  i think i\\'m going to go with this one, I\\'ll go to best buy and see.but I also need to pay off the last ticket, pay off Ian\\'s camping trip, and get myself to the bodyartexpo where I might like to spend a little money dammit. \\t  urlLink this is the baby I wantbut its a shell out of 279 plus tax which I can ill afford and weight 2 months for the 150 back.\\t well of course the blogging honeymoon is over.also I need to get a new domain, got paid today, will do this weekend. create several blog in blogs, with carb and blood counters. yahoootie!  been up and down and losing no weight with this puppy, really just trying to keep blood down. I feel its a good investment, because I will be living like this when I lose the weight. my only concern is the low carb mania. when it ends, will ben and jerry\\'s still have low carb ice cream? miltons low carb bread? hay yi yi. I hope so, or life will be dismal indeed. diet cherry coke will save this summer for me. I feel a little  tingly and week. didnt have dinner until about ten last night. stirfry, veggies and chicken and diet soda and a glipizid. I hadnt had any meds since noon and i think my blood was high before dinner because at midnight it was 121. not horrible but would rather it was down to under 100. oh well.. im still in a good place. viva la raza!\\t big oops to that. chicken soup and kale soup last night, but i also had a peach and some rasberries with a little cream and cereal. boo hoo.  and im still sick, now the infection is in my chest. \\t aft breakfast blood 80!!! all hale the kale soup. life saving \\t I think I am going to go for it. this palm has built in camera (1.2 megapixel) and bluetooth and an expansion slot. so i am excited, I have been eyballing this one for a while.okay wait. poopy, its a 71, discontinued, processor less than half the speed of the 72. fuggit. the 72 is 299... im just going to wait for an open box for it. oh blah. \\t okay, but im wierded out.  i waited to take my meds until midnight last night, but I fell asleep before taking them. so what gives? but the times I purposfully didnt take them thinking, something is wierd about this.. my sugars shot up?  I had 2 bowls of kale soup for dinner. maybe kale and garbanzo beans is a sugar inhibitor? whats the dillio?pre dinner yesgterday 104, morning bl0od yesterday 81 (took meds at midnight) after dinner blood monday, 116 pre dinner 108, pre lunch 94, morning blood monday 76!! after dinner blood sunday 98, pre dinner 84, morning bllod sunday 108, bedtime blood sat 89, after dinner blood sat (after 2 peices of 11 carb each bread and some cereal with peaches, within one hour) 155.and so it goes. sat I slept all night... sunday night i was up till 4am, monday night i woke up at 1 and was up till 3:30 am.. same as tuesday... finally last night I got a full nights sleep.  i\\'m just so confused about these fluctuations.  \\t less than 2 hours later, my sugar is up 20 fucking points to 93, and I have not eaten anything, nor did I go back to sleep. life sucks. \\t last night I had two chicken sausages (with fontina garlic and spinach, yum) and a small salad and  glipizid, and about ano hour later, 2 klondike 5 carb icecream ba I was going to take the glucophage at midnightish, but I fell asleep. my blood before dinner was 84, before lunch ws 68 and now I am afraid to take the glucophage again, I dont want it to raise.. I dont kno wif the glucophage is raising it and I dont know if the glucophage is regulating my estrogen yet. its about one month since my last period, and I\\'ve been weepy lately so I could be due again but quien sabes  que?  I am going to take a glipizid with breakfast.. try not to go back to sleep right now..i feel better this morning, plus I feel \"light\", but my throat hurts a bit. \\t but i feel like utter shit today. i must be catching something. I had a free lance job to do today, but put it off until Monday i guess.. too much to do tomorrow. going to bed now.. bloods were good all day.. soups agree with me, kale soup for 2 days, good blood, chicken soup for 2 days, good blood.\\t kale soup for dinner, and no meds..  at 10 #0 my blood was 119, so took glipizid, and another bowl of soup. The pain in my shoulder woke me at 1:30, took glucophage, another bowl of soup, and couldnt fall back asleep until 4 am.. I hope this isnt theproper puzzle peice, i am tired. \\t and thats because i didn\\'t wake up until 9. i guess i\\'m going to have to early to bed, early to rise!'}"
            ]
          },
          "metadata": {
            "tags": []
          },
          "execution_count": 94
        }
      ]
    },
    {
      "cell_type": "code",
      "metadata": {
        "id": "eua1FJttT-FO",
        "colab_type": "code",
        "colab": {}
      },
      "source": [
        "df=pd.DataFrame(data)"
      ],
      "execution_count": 0,
      "outputs": []
    },
    {
      "cell_type": "code",
      "metadata": {
        "id": "bgAwHL8XUALd",
        "colab_type": "code",
        "colab": {
          "base_uri": "https://localhost:8080/",
          "height": 206
        },
        "outputId": "bb6b1d26-393d-4f42-fae5-e22b650a8f76"
      },
      "source": [
        "df.head()"
      ],
      "execution_count": 96,
      "outputs": [
        {
          "output_type": "execute_result",
          "data": {
            "text/html": [
              "<div>\n",
              "<style scoped>\n",
              "    .dataframe tbody tr th:only-of-type {\n",
              "        vertical-align: middle;\n",
              "    }\n",
              "\n",
              "    .dataframe tbody tr th {\n",
              "        vertical-align: top;\n",
              "    }\n",
              "\n",
              "    .dataframe thead th {\n",
              "        text-align: right;\n",
              "    }\n",
              "</style>\n",
              "<table border=\"1\" class=\"dataframe\">\n",
              "  <thead>\n",
              "    <tr style=\"text-align: right;\">\n",
              "      <th></th>\n",
              "      <th>id</th>\n",
              "      <th>gender</th>\n",
              "      <th>age</th>\n",
              "      <th>category</th>\n",
              "      <th>horoscope</th>\n",
              "      <th>posts</th>\n",
              "    </tr>\n",
              "  </thead>\n",
              "  <tbody>\n",
              "    <tr>\n",
              "      <th>0</th>\n",
              "      <td>17944</td>\n",
              "      <td>female</td>\n",
              "      <td>39</td>\n",
              "      <td>indUnk</td>\n",
              "      <td>Sagittarius</td>\n",
              "      <td>\\t this blog is not about spooge\\t this is a...</td>\n",
              "    </tr>\n",
              "    <tr>\n",
              "      <th>1</th>\n",
              "      <td>5114</td>\n",
              "      <td>male</td>\n",
              "      <td>25</td>\n",
              "      <td>indUnk</td>\n",
              "      <td>Scorpio</td>\n",
              "      <td>Slashdot raises lots of  urlLink interesting t...</td>\n",
              "    </tr>\n",
              "    <tr>\n",
              "      <th>2</th>\n",
              "      <td>11253</td>\n",
              "      <td>male</td>\n",
              "      <td>26</td>\n",
              "      <td>Technology</td>\n",
              "      <td>Aquarius</td>\n",
              "      <td>About to go t bed late (again) got sucked int...</td>\n",
              "    </tr>\n",
              "    <tr>\n",
              "      <th>3</th>\n",
              "      <td>11762</td>\n",
              "      <td>female</td>\n",
              "      <td>25</td>\n",
              "      <td>Student</td>\n",
              "      <td>Aries</td>\n",
              "      <td>\\t  Entry originally posted on 8 August 2003...</td>\n",
              "    </tr>\n",
              "    <tr>\n",
              "      <th>4</th>\n",
              "      <td>8349</td>\n",
              "      <td>male</td>\n",
              "      <td>24</td>\n",
              "      <td>Consulting</td>\n",
              "      <td>Cancer</td>\n",
              "      <td>\\t Ever wondered what a  urlLink Bad head, o...</td>\n",
              "    </tr>\n",
              "  </tbody>\n",
              "</table>\n",
              "</div>"
            ],
            "text/plain": [
              "      id  ...                                              posts\n",
              "0  17944  ...    \\t this blog is not about spooge\\t this is a...\n",
              "1   5114  ...  Slashdot raises lots of  urlLink interesting t...\n",
              "2  11253  ...   About to go t bed late (again) got sucked int...\n",
              "3  11762  ...    \\t  Entry originally posted on 8 August 2003...\n",
              "4   8349  ...    \\t Ever wondered what a  urlLink Bad head, o...\n",
              "\n",
              "[5 rows x 6 columns]"
            ]
          },
          "metadata": {
            "tags": []
          },
          "execution_count": 96
        }
      ]
    },
    {
      "cell_type": "code",
      "metadata": {
        "id": "fUEslBGYYSlV",
        "colab_type": "code",
        "colab": {
          "base_uri": "https://localhost:8080/",
          "height": 208
        },
        "outputId": "94f3501d-5655-4b8a-b113-d9c1e917bb61"
      },
      "source": [
        ""
      ],
      "execution_count": 97,
      "outputs": [
        {
          "output_type": "execute_result",
          "data": {
            "text/plain": [
              "0      \\t this blog is not about spooge\\t this is a...\n",
              "1    Slashdot raises lots of  urlLink interesting t...\n",
              "2     About to go t bed late (again) got sucked int...\n",
              "3      \\t  Entry originally posted on 8 August 2003...\n",
              "4      \\t Ever wondered what a  urlLink Bad head, o...\n",
              "5      \\t Every day should be a half day.  Took the...\n",
              "6    testing with each and every passing day its ha...\n",
              "7      \\t Yet another TV Channel. This time it's ca...\n",
              "8      \\t  urlLink Information Awareness Office: Ho...\n",
              "9      The history of seitans origin and different ...\n",
              "Name: posts, dtype: object"
            ]
          },
          "metadata": {
            "tags": []
          },
          "execution_count": 97
        }
      ]
    },
    {
      "cell_type": "code",
      "metadata": {
        "id": "qPrF_6DnbtlG",
        "colab_type": "code",
        "colab": {}
      },
      "source": [
        ""
      ],
      "execution_count": 0,
      "outputs": []
    }
  ]
}