{
  "nbformat": 4,
  "nbformat_minor": 0,
  "metadata": {
    "colab": {
      "name": "Blogs 1.ipynb",
      "provenance": [],
      "collapsed_sections": [],
      "authorship_tag": "ABX9TyN4opy+KYsp2SHK5/fOB+Y/",
      "include_colab_link": true
    },
    "kernelspec": {
      "name": "python3",
      "display_name": "Python 3"
    },
    "accelerator": "GPU"
  },
  "cells": [
    {
      "cell_type": "markdown",
      "metadata": {
        "id": "view-in-github",
        "colab_type": "text"
      },
      "source": [
        "<a href=\"https://colab.research.google.com/github/SaqlainHussainShah/Blogs_classification_NLP/blob/master/Blogs_1.ipynb\" target=\"_parent\"><img src=\"https://colab.research.google.com/assets/colab-badge.svg\" alt=\"Open In Colab\"/></a>"
      ]
    },
    {
      "cell_type": "code",
      "metadata": {
        "id": "swsb5oqK7fj8",
        "colab_type": "code",
        "colab": {}
      },
      "source": [
        "import glob\n",
        "import time\n",
        "import pandas as pd"
      ],
      "execution_count": 0,
      "outputs": []
    },
    {
      "cell_type": "code",
      "metadata": {
        "id": "I1-Hf9eCLeE3",
        "colab_type": "code",
        "outputId": "649567d6-2559-49fd-bead-8e91163f6141",
        "colab": {
          "base_uri": "https://localhost:8080/",
          "height": 54
        }
      },
      "source": [
        "from google.colab import drive\n",
        "drive.mount('/content/drive')"
      ],
      "execution_count": 59,
      "outputs": [
        {
          "output_type": "stream",
          "text": [
            "Drive already mounted at /content/drive; to attempt to forcibly remount, call drive.mount(\"/content/drive\", force_remount=True).\n"
          ],
          "name": "stdout"
        }
      ]
    },
    {
      "cell_type": "code",
      "metadata": {
        "id": "zYQmVR2rRYZs",
        "colab_type": "code",
        "outputId": "ab7dfa89-480e-4e58-890b-ffe5e27389a7",
        "colab": {
          "base_uri": "https://localhost:8080/",
          "height": 34
        }
      },
      "source": [
        "\n",
        "t1=time.time()\n",
        "path='/content/drive/My Drive/'\n",
        "all_files = glob.glob(path + \"/*.xml\")\n",
        "list = []\n",
        "\n",
        "for filename in all_files:\n",
        "  # print(\"file name \", filename)\n",
        "  list.append(filename)\n",
        "    \n",
        "\n",
        "t2=time.time()\n",
        "print(\"time taken to read All csv :: \", t2-t1, \" seconds \")"
      ],
      "execution_count": 60,
      "outputs": [
        {
          "output_type": "stream",
          "text": [
            "time taken to read All csv ::  0.0010361671447753906  seconds \n"
          ],
          "name": "stdout"
        }
      ]
    },
    {
      "cell_type": "code",
      "metadata": {
        "id": "rQVu2e7f1f0g",
        "colab_type": "code",
        "colab": {}
      },
      "source": [
        "def clean_file_names(li):\n",
        "  names_list=[]\n",
        "  for i in range(len(li)):\n",
        "    names_list.append(li[i].split('/')[-1])\n",
        "  return names_list"
      ],
      "execution_count": 0,
      "outputs": []
    },
    {
      "cell_type": "code",
      "metadata": {
        "id": "htm2s-cA35zN",
        "colab_type": "code",
        "colab": {}
      },
      "source": [
        "def get_attributes_from_name(names_list):\n",
        "  data_object=[]\n",
        "  for data in range(len(names_list)):\n",
        "    dummy_var=names_list[data].split('.')\n",
        "    dummy_object={'id':dummy_var[0], 'gender':dummy_var[1],\n",
        "                  'age':dummy_var[2], 'category':dummy_var[3],\n",
        "                  'horoscope':dummy_var[4]\n",
        "                  }\n",
        "    data_object.append(dummy_object)\n",
        "  return data_object"
      ],
      "execution_count": 0,
      "outputs": []
    },
    {
      "cell_type": "code",
      "metadata": {
        "id": "9nh2DZtn4bqB",
        "colab_type": "code",
        "colab": {}
      },
      "source": [
        "names_list=clean_file_names(li)"
      ],
      "execution_count": 0,
      "outputs": []
    },
    {
      "cell_type": "code",
      "metadata": {
        "id": "Llr4juyU5oiE",
        "colab_type": "code",
        "colab": {}
      },
      "source": [
        "data_object=get_attributes_from_name(names_list)"
      ],
      "execution_count": 0,
      "outputs": []
    },
    {
      "cell_type": "code",
      "metadata": {
        "id": "Hlyk_41G7aCk",
        "colab_type": "code",
        "outputId": "730ea659-09b3-4bf9-97fb-e1fbd1e683f3",
        "colab": {
          "base_uri": "https://localhost:8080/",
          "height": 885
        }
      },
      "source": [
        "data_object"
      ],
      "execution_count": 65,
      "outputs": [
        {
          "output_type": "execute_result",
          "data": {
            "text/plain": [
              "[{'age': '34',\n",
              "  'category': 'indUnk',\n",
              "  'gender': 'female',\n",
              "  'horoscope': 'Cancer',\n",
              "  'id': '15365'},\n",
              " {'age': '25',\n",
              "  'category': 'indUnk',\n",
              "  'gender': 'male',\n",
              "  'horoscope': 'Scorpio',\n",
              "  'id': '5114'},\n",
              " {'age': '39',\n",
              "  'category': 'indUnk',\n",
              "  'gender': 'female',\n",
              "  'horoscope': 'Sagittarius',\n",
              "  'id': '17944'},\n",
              " {'age': '26',\n",
              "  'category': 'Internet',\n",
              "  'gender': 'male',\n",
              "  'horoscope': 'Scorpio',\n",
              "  'id': '7596'},\n",
              " {'age': '25',\n",
              "  'category': 'Communications-Media',\n",
              "  'gender': 'male',\n",
              "  'horoscope': 'Aries',\n",
              "  'id': '9470'},\n",
              " {'age': '23',\n",
              "  'category': 'Marketing',\n",
              "  'gender': 'male',\n",
              "  'horoscope': 'Taurus',\n",
              "  'id': '9289'},\n",
              " {'age': '42',\n",
              "  'category': 'indUnk',\n",
              "  'gender': 'male',\n",
              "  'horoscope': 'Capricorn',\n",
              "  'id': '8173'},\n",
              " {'age': '24',\n",
              "  'category': 'Consulting',\n",
              "  'gender': 'male',\n",
              "  'horoscope': 'Cancer',\n",
              "  'id': '8349'},\n",
              " {'age': '25',\n",
              "  'category': 'Student',\n",
              "  'gender': 'female',\n",
              "  'horoscope': 'Aries',\n",
              "  'id': '11762'},\n",
              " {'age': '26',\n",
              "  'category': 'Technology',\n",
              "  'gender': 'male',\n",
              "  'horoscope': 'Aquarius',\n",
              "  'id': '11253'}]"
            ]
          },
          "metadata": {
            "tags": []
          },
          "execution_count": 65
        }
      ]
    },
    {
      "cell_type": "code",
      "metadata": {
        "id": "J1luxqIV7b9S",
        "colab_type": "code",
        "colab": {}
      },
      "source": [
        "data_frame = pd.DataFrame(data_object)"
      ],
      "execution_count": 0,
      "outputs": []
    },
    {
      "cell_type": "code",
      "metadata": {
        "id": "3wJPsISu75MR",
        "colab_type": "code",
        "outputId": "aeff0e24-d839-4bf7-8ae6-8ec18573c2c6",
        "colab": {
          "base_uri": "https://localhost:8080/",
          "height": 206
        }
      },
      "source": [
        "data_frame.head()"
      ],
      "execution_count": 67,
      "outputs": [
        {
          "output_type": "execute_result",
          "data": {
            "text/html": [
              "<div>\n",
              "<style scoped>\n",
              "    .dataframe tbody tr th:only-of-type {\n",
              "        vertical-align: middle;\n",
              "    }\n",
              "\n",
              "    .dataframe tbody tr th {\n",
              "        vertical-align: top;\n",
              "    }\n",
              "\n",
              "    .dataframe thead th {\n",
              "        text-align: right;\n",
              "    }\n",
              "</style>\n",
              "<table border=\"1\" class=\"dataframe\">\n",
              "  <thead>\n",
              "    <tr style=\"text-align: right;\">\n",
              "      <th></th>\n",
              "      <th>id</th>\n",
              "      <th>gender</th>\n",
              "      <th>age</th>\n",
              "      <th>category</th>\n",
              "      <th>horoscope</th>\n",
              "    </tr>\n",
              "  </thead>\n",
              "  <tbody>\n",
              "    <tr>\n",
              "      <th>0</th>\n",
              "      <td>15365</td>\n",
              "      <td>female</td>\n",
              "      <td>34</td>\n",
              "      <td>indUnk</td>\n",
              "      <td>Cancer</td>\n",
              "    </tr>\n",
              "    <tr>\n",
              "      <th>1</th>\n",
              "      <td>5114</td>\n",
              "      <td>male</td>\n",
              "      <td>25</td>\n",
              "      <td>indUnk</td>\n",
              "      <td>Scorpio</td>\n",
              "    </tr>\n",
              "    <tr>\n",
              "      <th>2</th>\n",
              "      <td>17944</td>\n",
              "      <td>female</td>\n",
              "      <td>39</td>\n",
              "      <td>indUnk</td>\n",
              "      <td>Sagittarius</td>\n",
              "    </tr>\n",
              "    <tr>\n",
              "      <th>3</th>\n",
              "      <td>7596</td>\n",
              "      <td>male</td>\n",
              "      <td>26</td>\n",
              "      <td>Internet</td>\n",
              "      <td>Scorpio</td>\n",
              "    </tr>\n",
              "    <tr>\n",
              "      <th>4</th>\n",
              "      <td>9470</td>\n",
              "      <td>male</td>\n",
              "      <td>25</td>\n",
              "      <td>Communications-Media</td>\n",
              "      <td>Aries</td>\n",
              "    </tr>\n",
              "  </tbody>\n",
              "</table>\n",
              "</div>"
            ],
            "text/plain": [
              "      id  gender age              category    horoscope\n",
              "0  15365  female  34                indUnk       Cancer\n",
              "1   5114    male  25                indUnk      Scorpio\n",
              "2  17944  female  39                indUnk  Sagittarius\n",
              "3   7596    male  26              Internet      Scorpio\n",
              "4   9470    male  25  Communications-Media        Aries"
            ]
          },
          "metadata": {
            "tags": []
          },
          "execution_count": 67
        }
      ]
    },
    {
      "cell_type": "code",
      "metadata": {
        "id": "RA0UJG4_763_",
        "colab_type": "code",
        "colab": {}
      },
      "source": [
        ""
      ],
      "execution_count": 0,
      "outputs": []
    }
  ]
}