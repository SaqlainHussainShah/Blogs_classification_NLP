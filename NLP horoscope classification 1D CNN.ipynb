{
 "cells": [
  {
   "cell_type": "code",
   "execution_count": 20,
   "metadata": {},
   "outputs": [],
   "source": [
    "from __future__ import print_function\n",
    "import glob\n",
    "import time\n",
    "import pandas as pd\n",
    "from lxml import etree\n",
    "from nltk import ngrams\n",
    "from keras.preprocessing import sequence\n",
    "from keras.models import Sequential\n",
    "from keras.layers import Dense, Dropout, Activation\n",
    "from keras.layers import Embedding\n",
    "from keras.layers import Conv1D, GlobalMaxPooling1D\n",
    "from keras.datasets import imdb"
   ]
  },
  {
   "cell_type": "code",
   "execution_count": 8,
   "metadata": {},
   "outputs": [],
   "source": [
    "%matplotlib inline"
   ]
  },
  {
   "cell_type": "code",
   "execution_count": 9,
   "metadata": {},
   "outputs": [
    {
     "name": "stdout",
     "output_type": "stream",
     "text": [
      "time taken to read All csv ::  0.05556511878967285  seconds \n"
     ]
    }
   ],
   "source": [
    "\n",
    "t1=time.time()\n",
    "path='./dataset/blogs_train/'\n",
    "all_files = glob.glob(path + \"/*.xml\")\n",
    "li = []\n",
    "\n",
    "for filename in all_files:\n",
    "  # print(\"file name \", filename)\n",
    "  li.append(filename)\n",
    "    \n",
    "\n",
    "t2=time.time()\n",
    "print(\"time taken to read All csv :: \", t2-t1, \" seconds \")"
   ]
  },
  {
   "cell_type": "code",
   "execution_count": 10,
   "metadata": {},
   "outputs": [],
   "source": [
    "def clean_file_names(li):\n",
    "  # names_list=[]\n",
    "  # for i in range(len(li)):\n",
    "  name_list=li.split('/')[-1]\n",
    "  return name_list"
   ]
  },
  {
   "cell_type": "code",
   "execution_count": 11,
   "metadata": {},
   "outputs": [],
   "source": [
    "def get_attributes_from_name(name):\n",
    "  # data_object=[]\n",
    "  # for data in range(len(names_list)):\n",
    "  #   dummy_var=names_list[data].split('.')\n",
    "  #   dummy_object={'id':dummy_var[0], 'gender':dummy_var[1],\n",
    "  #                 'age':dummy_var[2], 'category':dummy_var[3],\n",
    "  #                 'horoscope':dummy_var[4]\n",
    "  #                 }\n",
    "  #   data_object.append(dummy_object)\n",
    "  dummy_var=name.split('.')\n",
    "  data_object={'id':dummy_var[0], 'gender':dummy_var[1],\n",
    "                  'age':dummy_var[2], 'category':dummy_var[3],\n",
    "                  'horoscope':dummy_var[4]\n",
    "                }\n",
    "  \n",
    "  return data_object"
   ]
  },
  {
   "cell_type": "code",
   "execution_count": 12,
   "metadata": {},
   "outputs": [],
   "source": [
    "parser = etree.XMLParser(encoding='ISO-8859-1', recover = True, huge_tree=True)"
   ]
  },
  {
   "cell_type": "code",
   "execution_count": 13,
   "metadata": {},
   "outputs": [],
   "source": [
    "def read_xml(li):\n",
    "  all_objects=[]\n",
    "  for i in range(len(li)):\n",
    "    # print(\"i will run \", i+1,\" times\")\n",
    "    name_of_file=clean_file_names(li[i])\n",
    "    # print(name_of_file)\n",
    "    data_object=get_attributes_from_name(name_of_file)\n",
    "    # print(data_object)\n",
    "\n",
    "    post_text='  '\n",
    "    tree = etree.parse(li[i], parser=parser)\n",
    "    root = tree.getroot()\n",
    "    for element in root.iter():\n",
    "        if element.tag == 'post':\n",
    "            element_text = element.text\n",
    "            post_text = post_text + element_text\n",
    "    mystring = post_text.replace('\\n', '').replace('\\r', '').replace('\\t', '')\n",
    "    mystring = mystring.replace('   ', '').replace('\\\\','')\n",
    "   \n",
    "\n",
    "\n",
    "   \n",
    "    # print(mystring)\n",
    "    # name_of_file=clean_file_names(li[i])\n",
    "    # data_object=get_attributes_from_name(name_of_file)\n",
    "    \n",
    "\n",
    "\n",
    "\n",
    "    data_object['posts']=mystring   \n",
    "    all_objects.append(data_object)\n",
    "\n",
    "  return all_objects\n",
    "\n"
   ]
  },
  {
   "cell_type": "code",
   "execution_count": 14,
   "metadata": {},
   "outputs": [
    {
     "data": {
      "text/plain": [
       "14600"
      ]
     },
     "execution_count": 14,
     "metadata": {},
     "output_type": "execute_result"
    }
   ],
   "source": [
    "len(li)"
   ]
  },
  {
   "cell_type": "code",
   "execution_count": 15,
   "metadata": {},
   "outputs": [],
   "source": [
    "t1=time.time()\n",
    "data=read_xml(li[0:10000])\n",
    "t2=time.time()"
   ]
  },
  {
   "cell_type": "code",
   "execution_count": 16,
   "metadata": {},
   "outputs": [
    {
     "name": "stdout",
     "output_type": "stream",
     "text": [
      "time taken to read ::  0.07588720560073853\n"
     ]
    }
   ],
   "source": [
    "print(\"time taken to read :: \", (t2-t1)/100)"
   ]
  },
  {
   "cell_type": "code",
   "execution_count": 17,
   "metadata": {},
   "outputs": [],
   "source": [
    "df=pd.DataFrame(data)"
   ]
  },
  {
   "cell_type": "code",
   "execution_count": 18,
   "metadata": {},
   "outputs": [
    {
     "data": {
      "text/html": [
       "<div>\n",
       "<style scoped>\n",
       "    .dataframe tbody tr th:only-of-type {\n",
       "        vertical-align: middle;\n",
       "    }\n",
       "\n",
       "    .dataframe tbody tr th {\n",
       "        vertical-align: top;\n",
       "    }\n",
       "\n",
       "    .dataframe thead th {\n",
       "        text-align: right;\n",
       "    }\n",
       "</style>\n",
       "<table border=\"1\" class=\"dataframe\">\n",
       "  <thead>\n",
       "    <tr style=\"text-align: right;\">\n",
       "      <th></th>\n",
       "      <th>id</th>\n",
       "      <th>gender</th>\n",
       "      <th>age</th>\n",
       "      <th>category</th>\n",
       "      <th>horoscope</th>\n",
       "      <th>posts</th>\n",
       "    </tr>\n",
       "  </thead>\n",
       "  <tbody>\n",
       "    <tr>\n",
       "      <th>9995</th>\n",
       "      <td>761028</td>\n",
       "      <td>male</td>\n",
       "      <td>27</td>\n",
       "      <td>indUnk</td>\n",
       "      <td>Capricorn</td>\n",
       "      <td>Hey everybody.  It's almost 9 here on Sunday n...</td>\n",
       "    </tr>\n",
       "    <tr>\n",
       "      <th>9996</th>\n",
       "      <td>3052887</td>\n",
       "      <td>male</td>\n",
       "      <td>24</td>\n",
       "      <td>Engineering</td>\n",
       "      <td>Libra</td>\n",
       "      <td>Mom woke me  up with a phone call at 10am! I ...</td>\n",
       "    </tr>\n",
       "    <tr>\n",
       "      <th>9997</th>\n",
       "      <td>3371295</td>\n",
       "      <td>female</td>\n",
       "      <td>16</td>\n",
       "      <td>indUnk</td>\n",
       "      <td>Virgo</td>\n",
       "      <td>Wow.  So I went shopping with Tashtash today ...</td>\n",
       "    </tr>\n",
       "    <tr>\n",
       "      <th>9998</th>\n",
       "      <td>3947895</td>\n",
       "      <td>female</td>\n",
       "      <td>24</td>\n",
       "      <td>Law</td>\n",
       "      <td>Cancer</td>\n",
       "      <td>I have had a special request for blogging so h...</td>\n",
       "    </tr>\n",
       "    <tr>\n",
       "      <th>9999</th>\n",
       "      <td>3033260</td>\n",
       "      <td>male</td>\n",
       "      <td>17</td>\n",
       "      <td>indUnk</td>\n",
       "      <td>Leo</td>\n",
       "      <td>Well, I'm not sure exactly how it happened, wh...</td>\n",
       "    </tr>\n",
       "  </tbody>\n",
       "</table>\n",
       "</div>"
      ],
      "text/plain": [
       "           id  gender age     category  horoscope  \\\n",
       "9995   761028    male  27       indUnk  Capricorn   \n",
       "9996  3052887    male  24  Engineering      Libra   \n",
       "9997  3371295  female  16       indUnk      Virgo   \n",
       "9998  3947895  female  24          Law     Cancer   \n",
       "9999  3033260    male  17       indUnk        Leo   \n",
       "\n",
       "                                                  posts  \n",
       "9995  Hey everybody.  It's almost 9 here on Sunday n...  \n",
       "9996   Mom woke me  up with a phone call at 10am! I ...  \n",
       "9997   Wow.  So I went shopping with Tashtash today ...  \n",
       "9998  I have had a special request for blogging so h...  \n",
       "9999  Well, I'm not sure exactly how it happened, wh...  "
      ]
     },
     "execution_count": 18,
     "metadata": {},
     "output_type": "execute_result"
    }
   ],
   "source": [
    "df.tail()"
   ]
  },
  {
   "cell_type": "code",
   "execution_count": 19,
   "metadata": {},
   "outputs": [],
   "source": [
    "data=''"
   ]
  },
  {
   "cell_type": "markdown",
   "metadata": {},
   "source": [
    "## Multilabel classification"
   ]
  },
  {
   "cell_type": "code",
   "execution_count": 27,
   "metadata": {},
   "outputs": [],
   "source": [
    "from sklearn.feature_extraction.text import CountVectorizer\n",
    "from sklearn.model_selection import train_test_split"
   ]
  },
  {
   "cell_type": "code",
   "execution_count": 28,
   "metadata": {},
   "outputs": [],
   "source": [
    "from sklearn.preprocessing import MultiLabelBinarizer\n",
    "from sklearn.model_selection import train_test_split"
   ]
  },
  {
   "cell_type": "code",
   "execution_count": 29,
   "metadata": {},
   "outputs": [],
   "source": [
    "from sklearn.feature_extraction.text import CountVectorizer\n"
   ]
  },
  {
   "cell_type": "code",
   "execution_count": 30,
   "metadata": {},
   "outputs": [],
   "source": [
    "sentences = df['posts'].values"
   ]
  },
  {
   "cell_type": "code",
   "execution_count": 31,
   "metadata": {},
   "outputs": [],
   "source": [
    "labels=df['horoscope']"
   ]
  },
  {
   "cell_type": "code",
   "execution_count": 32,
   "metadata": {},
   "outputs": [
    {
     "data": {
      "text/plain": [
       "LabelEncoder()"
      ]
     },
     "execution_count": 32,
     "metadata": {},
     "output_type": "execute_result"
    }
   ],
   "source": [
    "from sklearn import preprocessing\n",
    "le = preprocessing.LabelEncoder()\n",
    "le.fit(labels)"
   ]
  },
  {
   "cell_type": "code",
   "execution_count": 33,
   "metadata": {},
   "outputs": [
    {
     "data": {
      "text/plain": [
       "array(['Aquarius', 'Aries', 'Cancer', 'Capricorn', 'Gemini', 'Leo',\n",
       "       'Libra', 'Pisces', 'Sagittarius', 'Scorpio', 'Taurus', 'Virgo'],\n",
       "      dtype=object)"
      ]
     },
     "execution_count": 33,
     "metadata": {},
     "output_type": "execute_result"
    }
   ],
   "source": [
    "le.classes_"
   ]
  },
  {
   "cell_type": "code",
   "execution_count": 34,
   "metadata": {},
   "outputs": [],
   "source": [
    "y=le.transform(labels)"
   ]
  },
  {
   "cell_type": "code",
   "execution_count": 40,
   "metadata": {},
   "outputs": [],
   "source": [
    "vectorizer = CountVectorizer()\n",
    "vectorizer.fit(x_train)\n",
    "\n",
    "x_train = vectorizer.transform(x_train)\n",
    "x_test  = vectorizer.transform(x_test)"
   ]
  },
  {
   "cell_type": "code",
   "execution_count": 127,
   "metadata": {},
   "outputs": [],
   "source": [
    "# set parameters:\n",
    "max_features = 4000\n",
    "maxlen = 8000\n",
    "batch_size = 4\n",
    "embedding_dims = 20\n",
    "filters = 250\n",
    "kernel_size = 3\n",
    "hidden_dims = 250\n",
    "epochs = 2"
   ]
  },
  {
   "cell_type": "code",
   "execution_count": 128,
   "metadata": {},
   "outputs": [
    {
     "name": "stdout",
     "output_type": "stream",
     "text": [
      "Loading data...\n",
      "8000 train sequences\n",
      "2000 test sequences\n"
     ]
    }
   ],
   "source": [
    "print('Loading data...')\n",
    "x_train, x_test, y_train,  y_test = train_test_split(sentences,y, test_size=0.2, random_state=42)\n",
    "print(len(x_train), 'train sequences')\n",
    "print(len(x_test), 'test sequences')"
   ]
  },
  {
   "cell_type": "code",
   "execution_count": 129,
   "metadata": {},
   "outputs": [
    {
     "name": "stdout",
     "output_type": "stream",
     "text": [
      "Build model...\n"
     ]
    }
   ],
   "source": [
    "print('Build model...')\n",
    "model = Sequential()\n",
    "\n",
    "# we start off with an efficient embedding layer which maps\n",
    "# our vocab indices into embedding_dims dimensions\n",
    "model.add(Embedding(max_features,\n",
    "                    embedding_dims,\n",
    "                    input_length=maxlen))\n",
    "model.add(Dropout(0.2))\n",
    "\n",
    "# we add a Convolution1D, which will learn filters\n",
    "# word group filters of size filter_length:\n",
    "model.add(Conv1D(filters,\n",
    "                 kernel_size,\n",
    "                 padding='valid',\n",
    "                 activation='relu',\n",
    "                 strides=1))\n",
    "# we use max pooling:\n",
    "model.add(GlobalMaxPooling1D())\n",
    "\n",
    "# We add a vanilla hidden layer:\n",
    "model.add(Dense(hidden_dims))\n",
    "model.add(Dropout(0.2))\n",
    "model.add(Activation('relu'))\n",
    "\n",
    "# We project onto a single unit output layer, and squash it with a sigmoid:\n",
    "model.add(Dense(1))\n",
    "model.add(Activation('sigmoid'))"
   ]
  },
  {
   "cell_type": "code",
   "execution_count": 130,
   "metadata": {},
   "outputs": [],
   "source": [
    "\n",
    "model.compile(loss='binary_crossentropy',\n",
    "              optimizer='adam',\n",
    "              metrics=['accuracy'])"
   ]
  },
  {
   "cell_type": "code",
   "execution_count": 131,
   "metadata": {},
   "outputs": [
    {
     "name": "stdout",
     "output_type": "stream",
     "text": [
      "_________________________________________________________________\n",
      "Layer (type)                 Output Shape              Param #   \n",
      "=================================================================\n",
      "embedding_8 (Embedding)      (None, 8000, 20)          80000     \n",
      "_________________________________________________________________\n",
      "dropout_14 (Dropout)         (None, 8000, 20)          0         \n",
      "_________________________________________________________________\n",
      "conv1d_8 (Conv1D)            (None, 7998, 250)         15250     \n",
      "_________________________________________________________________\n",
      "global_max_pooling1d_7 (Glob (None, 250)               0         \n",
      "_________________________________________________________________\n",
      "dense_13 (Dense)             (None, 250)               62750     \n",
      "_________________________________________________________________\n",
      "dropout_15 (Dropout)         (None, 250)               0         \n",
      "_________________________________________________________________\n",
      "activation_13 (Activation)   (None, 250)               0         \n",
      "_________________________________________________________________\n",
      "dense_14 (Dense)             (None, 1)                 251       \n",
      "_________________________________________________________________\n",
      "activation_14 (Activation)   (None, 1)                 0         \n",
      "=================================================================\n",
      "Total params: 158,251\n",
      "Trainable params: 158,251\n",
      "Non-trainable params: 0\n",
      "_________________________________________________________________\n"
     ]
    }
   ],
   "source": [
    "model.summary()"
   ]
  },
  {
   "cell_type": "code",
   "execution_count": 138,
   "metadata": {},
   "outputs": [
    {
     "ename": "ValueError",
     "evalue": "Error when checking input: expected embedding_8_input to have shape (8000,) but got array with shape (1,)",
     "output_type": "error",
     "traceback": [
      "\u001b[0;31m---------------------------------------------------------------------------\u001b[0m",
      "\u001b[0;31mValueError\u001b[0m                                Traceback (most recent call last)",
      "\u001b[0;32m<ipython-input-138-ce1528563816>\u001b[0m in \u001b[0;36m<module>\u001b[0;34m\u001b[0m\n\u001b[1;32m      2\u001b[0m           \u001b[0mbatch_size\u001b[0m\u001b[0;34m=\u001b[0m\u001b[0mbatch_size\u001b[0m\u001b[0;34m,\u001b[0m\u001b[0;34m\u001b[0m\u001b[0;34m\u001b[0m\u001b[0m\n\u001b[1;32m      3\u001b[0m           \u001b[0mepochs\u001b[0m\u001b[0;34m=\u001b[0m\u001b[0mepochs\u001b[0m\u001b[0;34m,\u001b[0m\u001b[0;34m\u001b[0m\u001b[0;34m\u001b[0m\u001b[0m\n\u001b[0;32m----> 4\u001b[0;31m           validation_data=(x_test, y_test))\n\u001b[0m",
      "\u001b[0;32m~/anaconda3/envs/tf/lib/python3.7/site-packages/keras/engine/training.py\u001b[0m in \u001b[0;36mfit\u001b[0;34m(self, x, y, batch_size, epochs, verbose, callbacks, validation_split, validation_data, shuffle, class_weight, sample_weight, initial_epoch, steps_per_epoch, validation_steps, **kwargs)\u001b[0m\n\u001b[1;32m    950\u001b[0m             \u001b[0msample_weight\u001b[0m\u001b[0;34m=\u001b[0m\u001b[0msample_weight\u001b[0m\u001b[0;34m,\u001b[0m\u001b[0;34m\u001b[0m\u001b[0;34m\u001b[0m\u001b[0m\n\u001b[1;32m    951\u001b[0m             \u001b[0mclass_weight\u001b[0m\u001b[0;34m=\u001b[0m\u001b[0mclass_weight\u001b[0m\u001b[0;34m,\u001b[0m\u001b[0;34m\u001b[0m\u001b[0;34m\u001b[0m\u001b[0m\n\u001b[0;32m--> 952\u001b[0;31m             batch_size=batch_size)\n\u001b[0m\u001b[1;32m    953\u001b[0m         \u001b[0;31m# Prepare validation data.\u001b[0m\u001b[0;34m\u001b[0m\u001b[0;34m\u001b[0m\u001b[0;34m\u001b[0m\u001b[0m\n\u001b[1;32m    954\u001b[0m         \u001b[0mdo_validation\u001b[0m \u001b[0;34m=\u001b[0m \u001b[0;32mFalse\u001b[0m\u001b[0;34m\u001b[0m\u001b[0;34m\u001b[0m\u001b[0m\n",
      "\u001b[0;32m~/anaconda3/envs/tf/lib/python3.7/site-packages/keras/engine/training.py\u001b[0m in \u001b[0;36m_standardize_user_data\u001b[0;34m(self, x, y, sample_weight, class_weight, check_array_lengths, batch_size)\u001b[0m\n\u001b[1;32m    749\u001b[0m             \u001b[0mfeed_input_shapes\u001b[0m\u001b[0;34m,\u001b[0m\u001b[0;34m\u001b[0m\u001b[0;34m\u001b[0m\u001b[0m\n\u001b[1;32m    750\u001b[0m             \u001b[0mcheck_batch_axis\u001b[0m\u001b[0;34m=\u001b[0m\u001b[0;32mFalse\u001b[0m\u001b[0;34m,\u001b[0m  \u001b[0;31m# Don't enforce the batch size.\u001b[0m\u001b[0;34m\u001b[0m\u001b[0;34m\u001b[0m\u001b[0m\n\u001b[0;32m--> 751\u001b[0;31m             exception_prefix='input')\n\u001b[0m\u001b[1;32m    752\u001b[0m \u001b[0;34m\u001b[0m\u001b[0m\n\u001b[1;32m    753\u001b[0m         \u001b[0;32mif\u001b[0m \u001b[0my\u001b[0m \u001b[0;32mis\u001b[0m \u001b[0;32mnot\u001b[0m \u001b[0;32mNone\u001b[0m\u001b[0;34m:\u001b[0m\u001b[0;34m\u001b[0m\u001b[0;34m\u001b[0m\u001b[0m\n",
      "\u001b[0;32m~/anaconda3/envs/tf/lib/python3.7/site-packages/keras/engine/training_utils.py\u001b[0m in \u001b[0;36mstandardize_input_data\u001b[0;34m(data, names, shapes, check_batch_axis, exception_prefix)\u001b[0m\n\u001b[1;32m    136\u001b[0m                             \u001b[0;34m': expected '\u001b[0m \u001b[0;34m+\u001b[0m \u001b[0mnames\u001b[0m\u001b[0;34m[\u001b[0m\u001b[0mi\u001b[0m\u001b[0;34m]\u001b[0m \u001b[0;34m+\u001b[0m \u001b[0;34m' to have shape '\u001b[0m \u001b[0;34m+\u001b[0m\u001b[0;34m\u001b[0m\u001b[0;34m\u001b[0m\u001b[0m\n\u001b[1;32m    137\u001b[0m                             \u001b[0mstr\u001b[0m\u001b[0;34m(\u001b[0m\u001b[0mshape\u001b[0m\u001b[0;34m)\u001b[0m \u001b[0;34m+\u001b[0m \u001b[0;34m' but got array with shape '\u001b[0m \u001b[0;34m+\u001b[0m\u001b[0;34m\u001b[0m\u001b[0;34m\u001b[0m\u001b[0m\n\u001b[0;32m--> 138\u001b[0;31m                             str(data_shape))\n\u001b[0m\u001b[1;32m    139\u001b[0m     \u001b[0;32mreturn\u001b[0m \u001b[0mdata\u001b[0m\u001b[0;34m\u001b[0m\u001b[0;34m\u001b[0m\u001b[0m\n\u001b[1;32m    140\u001b[0m \u001b[0;34m\u001b[0m\u001b[0m\n",
      "\u001b[0;31mValueError\u001b[0m: Error when checking input: expected embedding_8_input to have shape (8000,) but got array with shape (1,)"
     ]
    }
   ],
   "source": [
    "\n",
    "\n",
    "model.fit(x_train, y_train,\n",
    "          batch_size=batch_size,\n",
    "          epochs=epochs,\n",
    "          validation_data=(x_test, y_test))"
   ]
  },
  {
   "cell_type": "code",
   "execution_count": 133,
   "metadata": {},
   "outputs": [],
   "source": [
    "x_train.shape=(1600*5,)"
   ]
  },
  {
   "cell_type": "code",
   "execution_count": 134,
   "metadata": {},
   "outputs": [],
   "source": [
    "y_train.shape=(1600*5,)"
   ]
  },
  {
   "cell_type": "code",
   "execution_count": 135,
   "metadata": {},
   "outputs": [],
   "source": [
    "x_test.shape=(400*5,)"
   ]
  },
  {
   "cell_type": "code",
   "execution_count": 136,
   "metadata": {},
   "outputs": [],
   "source": [
    "x_test.shape=(400*5,)"
   ]
  },
  {
   "cell_type": "code",
   "execution_count": 137,
   "metadata": {},
   "outputs": [
    {
     "data": {
      "text/plain": [
       "(2000,)"
      ]
     },
     "execution_count": 137,
     "metadata": {},
     "output_type": "execute_result"
    }
   ],
   "source": [
    "x_test.shape"
   ]
  },
  {
   "cell_type": "code",
   "execution_count": 100,
   "metadata": {},
   "outputs": [],
   "source": [
    "y_test.shape=(400*5,)\n"
   ]
  },
  {
   "cell_type": "code",
   "execution_count": 119,
   "metadata": {},
   "outputs": [
    {
     "data": {
      "text/plain": [
       "(8000,)"
      ]
     },
     "execution_count": 119,
     "metadata": {},
     "output_type": "execute_result"
    }
   ],
   "source": [
    "x_train.shape"
   ]
  },
  {
   "cell_type": "code",
   "execution_count": 139,
   "metadata": {},
   "outputs": [
    {
     "data": {
      "text/plain": [
       "'  â\\x80\\x9cWithout a strong commitment to diversity from the worldâ\\x80\\x99s leading academic institutions, it will become more and more difficult for multinational corporations to compete at the global level.â\\x80\\x9d  (James Hackett, CEO of Steelcase Inc)  Source:Knickerbocker, Brad.  â\\x80\\x9cAffirmative Actionâ\\x80\\x99s Unlikely Allyâ\\x80\\x9d. Oct. 25, 2000.  Christian Science Monitor,  Kellogg Co. stated that, â\\x80\\x9cIt will limit its support of campuses that donâ\\x80\\x99t continue to enroll and graduate growing numbers of ethnic minorities.â\\x80\\x9d Source: France, Mike and Symonds, William C. â\\x80\\x9cDiversity is About to Get More Elusive, Not Less.â\\x80\\x9d July 7 2003 Business WeekurlLink Educating for a Diverse America: A Summit and SymposiumUniversity of Texas, Austin January 29-30, 2004Remarks by President Michael M. Crow :  .......\"So it is not unrealistic to start thinking about what change we want 50 years from now. In 2054 the very concept of diversity will change as we become a nation with no majority population. In 2054, with no majority population, we will be able to label ourselves nothing other than what Governor Wilder has suggestedâ\\x80\\x94all of us Americans, with no other label. We will be living in a post-dominant-culture America. Hallelujah:no dominant culture. \"  \"The whole point of the liberal revolution that gave rise to the 1960â\\x80\\x99s was to free us from somebody elseâ\\x80\\x99s dogma, but now the same peopleâ\\x80¦are striving to impose on others a secularized religionâ\\x80¦disguising it behind innocuous labels like â\\x80\\x98diversity trainingâ\\x80\\x99 and â\\x80\\x98respect for difference.â\\x80\\x99\"(Richard Bernstein)urlLink Graduation May 14, 2004 urlLink  urlLink photo by Peri  urlLink  Well it came with a tag that said African lily, but if you look for African lily on the net it is supposed to be blue.  ???Not sure what this is, but it is pretty.  Hot here, currently 97 degrees.  I worked in the yard today: trimming overgrown vines  raking pods that our trees are dropping.  The birds love to hang upside down in the trees and eat the seeds that are in the pods.  I think the trees are willow acacias.  I trimmed some of the branches, as I\\'m sure the neighbor doesn\\'t like the pods the way the birds do.  After being overheated for too long I took a nice swim. \\'Frasier\\' star  urlLink Peri  Gilpin becomes a mother (of twins) May 11, 2004  Public Entity Risk Institute (PERI)  urlLink Peri Dar Inc: A Fair Trade Company PERI-PERI SAUCE FOR BBQ CHICKEN  In a food processor or blender: place approx 1/2 cup of peeled garlic cloves, approx 2 cups dried red peppers, seeds removed, 1 cup oil (olive oil pref), salt to taste, 1 tablespoon mixed herbs, 2 tablespoons angostura bitters, lemon juice to taste, black pepper to taste. Blend until smooth and liquefied. The important thing is to get the oil and peppers to liquefy so that the sauce can come together. There should not be parts of the pepper in oil, but rather a smooth sauce with the peppers assimilated into the oil. The ingredients are approximate so don\\'t be afraid to trust your taste buds.  To make the traditional Peri-Peri chicken: cut a chicken in half, wash and pat dry with paper towels, trim excess fat, and place the chicken in a plastic bag, pour peri-peri on, marinate 24 hrs, barbeque slowly for 1 hour, brushing with sauce. The Webber BBQ method works best.  Political Economy Research Institute ( urlLink PERI ) Pharmaceutical Education and Research Institute  urlLink (PERI)What\\'s happening?On summer break from school, neighbors start their jackhammering construction at 7:30 am.  No chance for being lazy and sleeping in.  Lasagne success (at least it was tonight) Ingredients: 1 lb ground beef (lean or sirloin) 1 lb sweet or mild italian sausage (i used the frys brand) 1 pkg lasagne noodles 1 28oz crushed tomatoes 1 can garlic tomatoes chopped - sm can 1 can contadina italian sauce -sm can 1 cup of pinot grigio wine (yum) 3/4 of an onion, chopped 1 clove of a garlic, minced 1/4 of a bell pepper, chopped 5 sundried tomatoes, soaked  chopped some fresh parsley and oregeno from garden mozzarella cheese and some colby some dried oregano 1 tsp pepper 1 tsp salt 1 tsp sugar (shhhhh don\\'t tell anyone) Method: 1) Boil the noodles as directed on pkg.  Drain noodles. (now.. this is the secret) .  Rinse noodles individually, I mean really rinse.  Don\\'t know why, but this is a secret trick for some reason.  Set aside. 2)  brown the meat, drain.  I rinsed it in a strainer just to get off the extra grease. 3)  in a olive oiled pan, saute the onion, bell peppers,  garlic until tender - sprinkle some salt on them as they cook (I saw a tv cook do this), it is supposed to release something good. ha 4)  okay, add the wine, the meat, the sundried tomatoes, the seasonings, medium heat, add the canned items and bring to a boil.  Then simmer while you shred your cheese. 5)  Shred cheese  (you decide how much you like) 6)  grease pan 7)  little bit of sauce on the bottom 8)  layer noodle 9)  layer sauce 10)  layer cheese11) keep going, I filled a 9x9 deep dish and then filled a shallow 9x9 dish to freeze for another day. 12) bake 375 20 min, turn down to 350, bake 30 min more. 13)  let set for 10 min before serving. urlLink Tempe Town Lake, picture taken by Peri  urlLink urlLink Tempe Town Lake LinkOpened Nov. 7, 1999 ; conceptualized in 1966 by ASU  220 surface acres - 2 miles long, 800-1200 feet wide  Average depth 12.5 feet, ranging from 7 to 19 feet  urlLinkA Map of the Universe: An Introduction to the Study of the Kabbalah by Rabbi Max Weiman  The bad:  Ordered online from Amazon, and was shocked it was only about 100 pages.  For $20 it was about .20 cents a page.  Not sure it was worth the price, as everything in the book was also for free on his website.The good:  many nuggets of inspiration -â\\x80\\x9cGod doesnâ\\x80\\x99t need robots. The essence of our existence is in using our free will to come closer to God.â\\x80\\x9durlLink See Rabbi Weimanâ\\x80\\x99s website urlLink California Zephr car we found in Maricopa, AZ. urlLink  Hey, well turns out there is a website that is tracking what happened to all the the cars, and provides history: I emailed them my photo - I think it is this one they are looking for: \"Silver Horizon (ex-CB 375, BN 375, Amtrak 9250) Had been reportedly owned by Kasten Railcar Services, but sold in 1998 for use as an Amtrak  \"remote station\" in Maricopa, AZ. Last seen on a siding in Maricopa (9/00). Current owner unknown (Amtrak?). \" http://calzephyr.railfan.net/ghosts/whatsleft.html#diner What is philosophy?  (from course description - PHI 101)  --------------------------- This class was very hard because much of our grade focused on our writing abilities.The professor on one day said he appreciated my creative approach to writing and on the worst day said that I was struggling to find a \"correct\" writing style......hummmm? You be the judge, I am truly in search of the correct writing style  for me .  ------------------- From the course definition, \"Philosophy is the thoughtful examination of the basic issues and questions of life and existence. Philosophy concerns itself with what is most abstract and fundamental. Philosophy is the quest for knowledge and wisdom. Philosophy is thinking as opposed to just believing. Although philosophy emphasizes the importance of reason and logic in seeking knowledge, it also emphasizes an openness and freedom of inquiry. Nothing is assumed or taken for granted - all ideas and principles are open to debate and discussion. Philosophy is democracy in practice. Philosophy is more though than just an intellectual enterprise - philosophy is a passion and a love for thinking, inquiry, and insight. Philosophy is a sense of wonder in the face of existence. Philosophy is both imaginative and practical. You will be asked to open your mind to an incredible assortment of new ideas and to apply these ideas to your own life and views of reality. Philosophy has a history and tradition stretching back at least as far as the Ancient Greeks and Chinese (600 - 300 BC). Yet philosophy has developed and evolved over the last two thousand years. There is a contemporary philosophical world of issues and new theories. Philosophy is an area of issues and competing points of view. There are answers in philosophy, but many as opposed to one, and there are questions, disagreements, and perplexities. The ideal of philosophy - in fact, of all wisdom and thinking - is to journey rather than arrive. \"Define each of the following theories or views of ethics and morality. Define each theory in a few sentences. Which views do you support? Which do you disagree with? Provide at least one reason why you support each of the views that you agree with. Provide at least one reason why you don\\'t support each of the views that you disagree with. *Hedonism, Egoism, Kant\\'s Duty Theory, Consequentialism, Aristotle\\'s Virtue Theory, Moral Absolutism, Moral Relativism, Nietzsche\\'s Critique of Morality*  A kind of egoism where one holds the belief that the purpose of life is to have pleasure is called  hedonism .  I would not support hedonism.  I suspect that some who have hedonist tendencies may use pleasure as a form of distraction or escape as a way of not dealing with life.  Just as a food addict or alcoholic escapes the anxieties of life.  I wonder if pleasure seeking hedonistic behavior is the same. Egoism  is the idea that people only act or behave to gain a benefit.  It implies that people even perform seemingly unselfish actions just to avoid guilt or bad feelings.  The branches of the â\\x80\\x9cgood lifeâ\\x80\\x9d our text covers such as success, ascetics, freedom, and hedonism are all kinds of egoism.  I think I would support the theory of egoism.  I think humans by nature act to benefit their selves.  We are trained to behave this way early on.  First, as children, to avoid punishments, we behave to avoid negative repercussions.  I doubt that there is really altruism.  I think it is a sense of pride we feel when we do something for others.  I think it is a self pride that is not often recognized as we carry out our good deeds.Kant in his duty theory  implies that our morality comes from our sense of duty.  The textbook gives the Ten Commandments as an example.  The text implies that the Ten Commandments are laws from God that came from â\\x80\\x9coutside of usâ\\x80\\x9d.  I donâ\\x80\\x99t think I agree with this.  For some reason I hold the belief that the laws were given to the Israelites because they needed it or demanded it.  I think there are some interpretations that would argue that Moses in trying to keep order, first established judges at the suggestion of his father â\\x80\\x93 in â\\x80\\x93 law and then I think the commandments were the next step as the people demanded rules.  I think the people gave up the freedom and grace of God for the law, because they did not feel comfortable being free.  Maybe this was because they had been enslaved by Egyptians for years.  It is as if they enslaved themselves to the law by choice.  They needed rules because it was more comfortable, more predictable than living by faith and guidance day to day from an unseen God.  Maybe they had no morals before the ten commandments?Consequentialism  judges a behavior or action as good or bad based on the results rather than the intent.  Utilitarianism is a form of consequentialism that believes moral decisions should be made for the good and happiness of the greatest number of people.  Jeremy Bentham came up with the happiness calculus to evaluate actions.  John Stuart Mill developed ideas further by adding a quality aspect to the calculus.  I think I disagree with this theory that the outcome that satisfies the greatest number of people in society is best.  I think about children who have decisions made for them by dysfunctional families or societies.  This could make children â\\x80\\x9cexpendableâ\\x80\\x9d in some situations.Aristotleâ\\x80\\x99s list of virtues  is a list of qualities he thought one should strive to possess not only for personal happiness, but also to benefit oneâ\\x80\\x99s community.  Since these virtues would benefit society and individual, it reflects the utilitarianism view of benefiting the most people.  I think Aristotleâ\\x80\\x99s virtues are a good guideline for a person to aim for.  I think a person should strive for a balance of behavior.  In our society, we have seen the problems that come from extreme imbalance of character, like having too much pride, or not keeping a temper in check.The belief that there are moral principles that are universal and that they should be followed by everyone is  moral absolutism .  This theory also deems a group of people immoral if they do not follow the universal moral values.I donâ\\x80\\x99t agree with moral absolutism, because it is difficult to judge a societyâ\\x80\\x99s or cultureâ\\x80\\x99s actions if we donâ\\x80\\x99t understand their motives.  This is difficult, because I have a belief that universally, for example, child abuse should be wrong.  If I saw child abuse in another culture, I might judge the people as immoral.  But maybe I saw one small part of a bigger picture I could never understand.  Or maybe the abused child would welcome someone saying, â\\x80\\x9chey, universally, we the other part of the world view this is wrong and will protect you.â\\x80\\x9d  This situation actually happened to me as I viewed a mother as too strict with her child on an airplane.  Someone else countered my view and said that in the culture and environment this child had to live in, they needed a strong, strict mother to survive.  It was easy for me to judge what I did not understand.  Opposite of moral absolutism is  moral relativism  which says that individual cultures and societies have their own moral principles that are right for them.  This theory advocates tolerance that other peoples have a right to choose what is right and wrong.  I think I could agree with this theory as long as people had individual choice and freedom.  I think about the Iraqi people being ruled by Saddam for decades.  From one view we might see the happy, â\\x80\\x9cin controlâ\\x80\\x9d faÃ§ade he wanted us to see, where time and time again he was elected to rule his people.  On the other view, his people didnâ\\x80\\x99t seem to have the knowledge or freedom to choose what they wanted.  How could this culture choose what is â\\x80\\x9cright for themâ\\x80\\x9d?If a people have the freedom to choose their morals, then moral relativism is a good idea. Nietzsche  valued creativity, self expression and power.  He was against Christian morals and the hypocrisy that developed with it.I think I agree with much of his critique of morality.  I think the harsh morals put a heavy burden of mistrust on society.  For instance, if a child is treated with trust they can more freely develop their personality and creativity.  Morals become a comparing point of who is holier than thou, or which is the worst sin.  I think for modern times we should be careful to not allow the new diversity and tolerance thinking to become the morals of our day.  It seems everywhere we turn our government and big companies are trying to impose their morals or culture upon us.  They impose their brand of diversity thinking.I think it too kills creativity, individuality and most of all trust.(1) Solomon, Robert, â\\x80\\x9cMorality and the Good Lifeâ\\x80\\x9d, The Big Questions (2002) pages 257-289.  Lesson 12, essay 8, chapter 3 Does God Exist?  Provide three reasons, pro or con, for your thesis. Do not use tradition, upbringing, or authority as reasons. Use Evidence and arguments.God exists because we have the idea of God.  Aristotle had the idea of substance, or matter.  In the book,  â\\x80\\x9cDesigner Universeâ\\x80\\x9d, authors Davis and Poe use the example of an apple and say that, â\\x80\\x9cAn apple has substance, but our idea of the apple does not.â\\x80\\x9d  I think that we have an idea that there is a God.  Different cultures or religions have defined God in various ways, and defining Godâ\\x80\\x99s substance is difficult.  I think manâ\\x80\\x99s idea of God shows that he/she/it exists. I think the intelligent design argument for the existence of God is valid.  It is difficult to study sciences and not wonder if there is an intelligence that created our universe. Life is shown to be perfectly balanced.  We see this balance in our food chain and earth system and processes.  The science of chemistry can reveal to us the proportion of elements that make up life, and one canâ\\x80\\x99t help but see that if the proportion was out of balance, life might cease to exist.  There appears to be a perfection or purpose of design when we break down matter into its simplest forms that implies an intelligent God planned it all. The cosmological argument for Godâ\\x80\\x99s existence is one I can believe.  I think Godâ\\x80\\x99s energy created the universe and put it into motion.  I think of God as a potential energy and that energy was applied to a form.  The kinetic energy was motion, life began from the energy.  Maybe this is the big bang idea? On the question of evil, I think man has elements of both good and evil.  We all have seen even the best of persons take a fall that shocks us, and we realize that everyone has good and bad tendencies.  Many religions acknowledge a good and bad, for example, the Hindu religion has a God named Shiva that is seen to have the negative or evil personality.  It is obvious that evil is here to stay with us on earth and came from somewhere.  What if there were no evil, no struggle, no tragedy, or death?  The human spirit seems to instinctively want some kind of triumph over evil or imbalance.  Just as a chemical compound strives to reach equilibrium, I think good and evil have a balance or at least a relationship.  I think that how man handles the evil that comes to him may be his ultimate purpose.  When evil comes in does it destroy us or strengthen us?  If there is a God and a Devil such as in the book of Job, maybe god is saying he/she â\\x80\\x9ctrustsâ\\x80\\x9d his/her creation to make the right choices when evil comes. (1) Solomon, Robert, â\\x80\\x9c (2)  Davis, Jimmy H. and Poe, Harry L., â\\x80\\x9cDesigner Universe: Intelligent Design and the Existence of God.â\\x80\\x9d Nashville, TN  .  Broadman  Holman, 2002, pg 22.urlLink Brendon\\'s new bike a 2000 yamaha v-star classic. urlLink  urlLinkurlLink 110 degrees and full of sweat after my Arizona State University walking tour. I\\'m glad I went though. I have to go back and make a special in person appointment to discuss my appeal for residency status.  What a hassle.  Hopefully they will see the light. Their residency policy see me as a non resident because I haven\\'t paid any taxes in this state. Here is a cool recipe I received in the mail from our realtor:  German Panckaes  serves 6 cal 187, protein 7g, Carg 22g, Fat 8.5G Chol 73mg  1/4 C margarine 2 eggs 1/2 C flour 1/2 C 1% milk 12 oz lowfat yogurt 1 C strawberries  (note: i used banana and vanilla yogurt and added a sprinkle of cinnamon  nutmeg in batter instead of the strawberries)  method:  Melt butter in 425 oven in shallow 9- inch baking dish. Meanwhile, mix eggs and flour until almost smooth, add milk and blend well.  Pour into hot butter and bake 20 to 25 minutes until golden with dark brown edges.  Top with yogurt and strawberries.urlLink boating pic from Kevin urlLink Greetings, It is very hot here.  Yesterday I trimmed my sago palm tree which is not actually a palm, but a cycad.  As ancient a species as dinosaur.  Well they grow \"pups\".  I knocked one off and planted it in a pot.  I had Kevin knock off the other two large ones and they are soaking in a bucket outside.  I have to get some peatmoss from Home Depot and will try to plant them where there is a drip irrigation sprinkler available in back by the pool. Hope they grow. Today is a pollution advisory day where children and people with breathing problems need to stay inside.  Normal folks should avoid outdoor activity.106 degrees and the scorpions are waking up.  They get uncomfortable in the heat and need to move around to cooler areas.  I found one outside yesterday.  We were invited to a nice memorial day weekend bbq and here is a easy dip they made: 9x9 pan, Layer: 2 pkg cream cheese 2 cans Dennison\\'s chili grated cheese on top Microwave - not sure how long. Serve with chips. YUM! urlLink Trinidad, CA urlLink Going to Northern CA for a very short four day trip.  Hope I at least get to see clam beach. :) urlLink A pic of a Hughes Airwest plane........ urlLink This is the first time I have felt homesick on a trip.  I guess Arizona feels like home for now.  I flew in to Humboldt county in the evening.  On the flight from Phoenix to SFO, an old pilot sat next to me.  He looked at his watch at take off and told me there is thirty seconds from full power until take off or I\\'d better start counting my beads.  It took me a few minutes to realize he was refering to the rosary, and i laughed.I spent the first night at Grandma Ruth\\'s in McKinleyville.  I got to meet Carol and JIm.  Jim and Grandma were chatterboxes and kept me up listening to their stories until three in the morning.  I think they were glad to have some company. The next two days I was on Humboldt Hill with Aunt Charlene, Uncle Roy, Tina  kids, Frankie  Alex and Nicole.  It was so warm I came home with a sunburn.  The kids swam in the inflatable outdoor pool.  (Odd for Humboldt)  We went to the zoo, and the old chimpanzee, Bill was still there.  He greeted us by sticking his rear up in the air at us.  He is the second oldest chimp in captivity in the world.  The zoo has a new front to it, and looks weird.  The elk are not there for now.  I hope they bring them back.  The bears were out and eating.  The Dahlias were blooming at the flower garden.  The lemur section animals were transferrred to another zoo.  The prarie dogs are gone.  There are pink flamingos and a very cool barnyard petting zoo.  Charlene\\'s grandkids enjoyed it. I watched movies with the kids... Shrek, Freaky Friday, and Cheaper by the Dozen.The next day, Friday, I was back at Grandma Ruth\\'s by about noon.  I sure enjoyed Charlene  family.  I took Grandma to safeway with me as i was purchasing my ingredients to make her some lasagne (recipe on my site, but hers did not have wine in it).  She said Jim liked lasagne, but not spaghetti.  (It turned out I made a huge dish and a small one for the freezer.........and no, Jim does not like it).  Grandma will be eating it for a while, haha. Grandma looked at the vegetables and fruits and everything in the store.  I had her help me pick out a bell pepper.  She was shocked at the price of lemons 2 for $1.00.  I was shocked at safeway prices up there.  Well, we got home and were starving, so she and I had a cheese omelete and french bread toast. The next day Saturday, Molly drove down and while Grandma was resting, we went to the Oyster Festival on the Arcata Plaza.  It was a good time.  Molly saw some nurses from Mckinleyville she knew.  People were dancing all over the plaza to the music.  We sat down by the statue and called Aunt Jo  Uncle Paul on the cell phone and they looked for us on the plaza web cam.  very fun. Back to Mckinleyville to pick up Grandma, who was ready.  She looked good.  We drove over to Eureka and saw Shirl\\'s new apartment.  Very very nice.  Kitchen, living room, bath,  bedroom.  She has a view of the bay.  Her little dog was there, too.  Shirl chose our restaurant, and wat a nice surprise it was the Woodly Island Marina.  :) Shirl had scallops, I had fish  chips, Molly had shrimp melt, and Grandma had fried oysters.  yum.Back to McKinleyville to drop off Grandma.  Molly and I headed to the Eureka Mall to see if there was a movie, and look at shops.  We decided to have a pajama party, and went to Sears where we found pj\\'s.  We got a pair for Grandma too (and she liked them!!)  No luck at the Mall for movies or the Broadway, so back to McKinleyville. No movie there either. We rented a few movies, got some popcorn and made Jim hook up the VCR for us.  I fell asleep in the middle of the George Clooney movie. It was a nice trip.........and the air travel story home........well that\\'s a whole \\'nother episode. :) check out the History of the Arcata Airport......\" urlLink Fog Dispersal Experimentation \". Six day until take off to a place I have yet to read anything good about.  Hopefully there will be something great there.  urlLink Article  in the Asia Times say that according to the World Bank, 58% of the ground water there is contaminated.I kept my appointment with the County Health Dept. here for my travel immunizations.  I knew I wouldn\\'t be able to get the typhoid shot because of an interaction with antibiotics, but thought they might give me the Hepatitis A shot.  The nurse said no and that if I was sick enough to be on antibiotics, no immunizations for me.Remind me not to get strep throat and double ear infections.  I still don\\'t feel 100%.Packing........what raincoat to take?  I hear it is the rainy season there and I read stories of raining cats  dogs.  I also read that it is extremely hot at the same time, humid. I read a health warning about dengue fever, and other diseases I can\\'t pronounce due to flood waters in Metro Manila.  Yikes, can it be that horrible?  There is no immunization for dengue fever, and it sounds like a horrible thing to get from a mosquito.  My bug guy Jack was out again yesterday and we talked about digital photography.  He is almost at a pro level.  I told him of my Philippine vacation plans.  He gave me a crazy look.  I continued and told him that I would not be taking my canon rebel digital, because of all the things I\\'ve read.  He said good idea, take the cheap camera.  Then he went on to tell me some interesting things.  He was in the Vietnam war.  He had been sent to the Philippines for training.  He thought it was so horrible that he asked to be sent to Vietnam instead.  Unbelievable.  From what he described to me and what I have been reading, it sounds like not much has changed. Is it really that bad?  There are few travel books available.I guess I will find out soon.urlLink pic of the day from Kevin Well day nine of being home from my Humboldt County trip, and I am recovering from Strep throat, ear infection (in both ears), and a rash from flea bites (Grandma Ruth\\'s cat). Yikes........ Not much has been accomplished at home, although today I am cleaning the guest room and closet.Going to the Philippines on the 8th July and then four days in Singapore.  Travel tip I picked up off the internet:  1)  scan a copy of your passport and other important info and email it to yourself on an email like yahoo, where you can access it from any computer in the world in case of emergency situation.  I haven\\'t actually done this one yet.  Nothing much got done with being so sick.  I am down to only one dose a day of cough syrup which is progress. :) urlLink  urlLink  ....and every experience one to remember.......Thanks for the Card Mom.....Well we are ready for fun.  I\\'ll be back later this month with stories and pictures.  I decided not to take my good digital camera and decided against my regular film camera.  I guess the Asia x-ray machines ruin your film and I could not find a lead film bag protector......so, we will have to trust Kevin to take good photos with his little digital camera. All should be well for Manila arrival as someone with the company is meeting us to take us to the hotel. :) I registered us with the U.S. state dept in case family needs to find us, etc. Called Brendon, he sounded good and is on school break.  He is doing great with his motorcycle and saving tons of $$ on gas.urlLink  urlLink Happy Fourth of July. We took a drive today.  There was a horrible accident that held up traffic on I-17, but we found the frontage road and got on our way.  Destination: Verde Valley and the river.  Was the River a myth or for real.  Is there trout fishing?  Stopped at the Camp Verde AZ trading post for some postcards.  Stopped at a Burger King to try the low carb whopper.......yikes......you are left wishing you had the satisfying bun. Kevin found the river, he just headed for the green belt of trees.  The park ranger let us in for free for a lookey lou.  The pamphlet, \"Verde River Greenway - a Riparian Ribbon, a unit of Dead Horse Ranch State Park\".  The ranger said there is trout in November, and a popular fly fishing destination.  Kevin parked and I took the small trail to the riverside.  I found the small stream and saw fish swimming, Kevin soon followed to see for himself.  Well it isn\\'t much........but not bad for desert Arizona, I guess. We then drove through the old copper mining town of Jerome, AZ.  We said we should spend a weekend sometime and walk through all the antique shops. We drove through Prescott, they were having a festival for the fourth. We got lost and found our way back to the freeway home.  urlLink  urlLink  Home again, and reflections bring me to the travel advice I have.1) Purse that was perfect was a kmart $14.99 american tourister black bag with adjustable straps and waterproof, zippered  2) Be sure to stop by a  grocery store  near your hotel to get things you may need... things I needed or purchased:  a) coffee single bags (because I got tired of Nescafe that everyone seems to love in SE Asia)  b) fresh fruit like bananas (When Kevin wants Mcdonalds, I still can have real food)  c) interesting little snacks and instant cup of noodles for the hotel room.  d) bottled water, sodas or whatever you drink......don\\'t pay the price in your hotel room charges.  3) Pack nutrition bars - a must to satisfy in between times  4) don\\'t bother with a raincoat, an umbrella is fine. In singapore, you can purchase one or hotel provides.  5) Jeans feel too hot. Poly blend pants were fine for me with a loose top.  6) Shorts are not as welcome as in the US, and they make your legs a mosquito magnet  7) sunscreen and deet bug spray a must  8) recommend lever 2000 antibacterial soap bar - pack in your suitcase, leave what you dont use  9) Clothes,.....if you are thin and in Manila.....pack old clothes or few and just buy some there as prices are great. Singapore sizes run small. Asians are thin (or healthy) unlike us big Americans.  10) Film for camera ..... humm. Well the Singapore carryon exray said their x-ray was film safe.....when in the U.S. connecting flights, be sure to hand your film to the security person and they will check it and it won\\'t have to go through x-ray.  11) Should have taken my nice digital camera.  12) Manila was not as scary as what I read on the internet.  13) Singapore was not as scary (with their fines and canings) as I read on the internet....  14) Don\\'t let anyone as much as touch your baggage except yourself or your hotel person, or airport security personel.  15) The bathrooms in Singapore were the most frightening thing I saw. Stick to the hotel restrooms and all is well. I did not use Manila restrooms, except at fancy places, golf clubs, etc.  16)Be sure to pack handiwipes or antibacterial wipes and tissue packets as restrooms have notoilet paper. Also, restrooms do not have hot waterto wash hands (except hotel of course or nice places). urlLink '"
      ]
     },
     "execution_count": 139,
     "metadata": {},
     "output_type": "execute_result"
    }
   ],
   "source": [
    "x_train[0]"
   ]
  },
  {
   "cell_type": "code",
   "execution_count": null,
   "metadata": {},
   "outputs": [],
   "source": []
  }
 ],
 "metadata": {
  "kernelspec": {
   "display_name": "Python 3",
   "language": "python",
   "name": "python3"
  },
  "language_info": {
   "codemirror_mode": {
    "name": "ipython",
    "version": 3
   },
   "file_extension": ".py",
   "mimetype": "text/x-python",
   "name": "python",
   "nbconvert_exporter": "python",
   "pygments_lexer": "ipython3",
   "version": "3.7.6"
  }
 },
 "nbformat": 4,
 "nbformat_minor": 4
}
